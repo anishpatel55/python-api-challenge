{
 "cells": [
  {
   "cell_type": "markdown",
   "metadata": {},
   "source": [
    "# VacationPy\n",
    "----\n",
    "\n",
    "#### Note\n",
    "* Instructions have been included for each segment. You do not have to follow them exactly, but they are included to help you think through the steps."
   ]
  },
  {
   "cell_type": "code",
   "execution_count": 239,
   "metadata": {},
   "outputs": [
    {
     "name": "stdout",
     "output_type": "stream",
     "text": [
      "Enabling notebook extension jupyter-js-widgets/extension...\n",
      "      - Validating: \u001b[32mOK\u001b[0m\n"
     ]
    }
   ],
   "source": [
    "!jupyter nbextension enable --py --sys-prefix widgetsnbextension\n"
   ]
  },
  {
   "cell_type": "code",
   "execution_count": 240,
   "metadata": {
    "scrolled": true
   },
   "outputs": [
    {
     "name": "stdout",
     "output_type": "stream",
     "text": [
      "Requirement already satisfied: gmaps in /opt/anaconda3/lib/python3.7/site-packages (0.9.0)\n",
      "Requirement already satisfied: six in /opt/anaconda3/lib/python3.7/site-packages (from gmaps) (1.12.0)\n",
      "Requirement already satisfied: geojson>=2.0.0 in /opt/anaconda3/lib/python3.7/site-packages (from gmaps) (2.5.0)\n",
      "Requirement already satisfied: ipywidgets>=7.0.0 in /opt/anaconda3/lib/python3.7/site-packages (from gmaps) (7.5.1)\n",
      "Requirement already satisfied: traitlets>=4.3.0 in /opt/anaconda3/lib/python3.7/site-packages (from gmaps) (4.3.3)\n",
      "Requirement already satisfied: ipython>=5.3.0 in /opt/anaconda3/lib/python3.7/site-packages (from gmaps) (7.8.0)\n",
      "Requirement already satisfied: ipykernel>=4.5.1 in /opt/anaconda3/lib/python3.7/site-packages (from ipywidgets>=7.0.0->gmaps) (5.1.2)\n",
      "Requirement already satisfied: widgetsnbextension~=3.5.0 in /opt/anaconda3/lib/python3.7/site-packages (from ipywidgets>=7.0.0->gmaps) (3.5.1)\n",
      "Requirement already satisfied: nbformat>=4.2.0 in /opt/anaconda3/lib/python3.7/site-packages (from ipywidgets>=7.0.0->gmaps) (4.4.0)\n",
      "Requirement already satisfied: ipython-genutils in /opt/anaconda3/lib/python3.7/site-packages (from traitlets>=4.3.0->gmaps) (0.2.0)\n",
      "Requirement already satisfied: decorator in /opt/anaconda3/lib/python3.7/site-packages (from traitlets>=4.3.0->gmaps) (4.4.0)\n",
      "Requirement already satisfied: pickleshare in /opt/anaconda3/lib/python3.7/site-packages (from ipython>=5.3.0->gmaps) (0.7.5)\n",
      "Requirement already satisfied: jedi>=0.10 in /opt/anaconda3/lib/python3.7/site-packages (from ipython>=5.3.0->gmaps) (0.15.1)\n",
      "Requirement already satisfied: appnope; sys_platform == \"darwin\" in /opt/anaconda3/lib/python3.7/site-packages (from ipython>=5.3.0->gmaps) (0.1.0)\n",
      "Requirement already satisfied: backcall in /opt/anaconda3/lib/python3.7/site-packages (from ipython>=5.3.0->gmaps) (0.1.0)\n",
      "Requirement already satisfied: setuptools>=18.5 in /opt/anaconda3/lib/python3.7/site-packages (from ipython>=5.3.0->gmaps) (41.4.0)\n",
      "Requirement already satisfied: prompt-toolkit<2.1.0,>=2.0.0 in /opt/anaconda3/lib/python3.7/site-packages (from ipython>=5.3.0->gmaps) (2.0.10)\n",
      "Requirement already satisfied: pexpect; sys_platform != \"win32\" in /opt/anaconda3/lib/python3.7/site-packages (from ipython>=5.3.0->gmaps) (4.7.0)\n",
      "Requirement already satisfied: pygments in /opt/anaconda3/lib/python3.7/site-packages (from ipython>=5.3.0->gmaps) (2.4.2)\n",
      "Requirement already satisfied: jupyter-client in /opt/anaconda3/lib/python3.7/site-packages (from ipykernel>=4.5.1->ipywidgets>=7.0.0->gmaps) (5.3.3)\n",
      "Requirement already satisfied: tornado>=4.2 in /opt/anaconda3/lib/python3.7/site-packages (from ipykernel>=4.5.1->ipywidgets>=7.0.0->gmaps) (6.0.3)\n",
      "Requirement already satisfied: notebook>=4.4.1 in /opt/anaconda3/lib/python3.7/site-packages (from widgetsnbextension~=3.5.0->ipywidgets>=7.0.0->gmaps) (6.0.1)\n",
      "Requirement already satisfied: jsonschema!=2.5.0,>=2.4 in /opt/anaconda3/lib/python3.7/site-packages (from nbformat>=4.2.0->ipywidgets>=7.0.0->gmaps) (3.0.2)\n",
      "Requirement already satisfied: jupyter-core in /opt/anaconda3/lib/python3.7/site-packages (from nbformat>=4.2.0->ipywidgets>=7.0.0->gmaps) (4.5.0)\n",
      "Requirement already satisfied: parso>=0.5.0 in /opt/anaconda3/lib/python3.7/site-packages (from jedi>=0.10->ipython>=5.3.0->gmaps) (0.5.1)\n",
      "Requirement already satisfied: wcwidth in /opt/anaconda3/lib/python3.7/site-packages (from prompt-toolkit<2.1.0,>=2.0.0->ipython>=5.3.0->gmaps) (0.1.7)\n",
      "Requirement already satisfied: ptyprocess>=0.5 in /opt/anaconda3/lib/python3.7/site-packages (from pexpect; sys_platform != \"win32\"->ipython>=5.3.0->gmaps) (0.6.0)\n",
      "Requirement already satisfied: pyzmq>=13 in /opt/anaconda3/lib/python3.7/site-packages (from jupyter-client->ipykernel>=4.5.1->ipywidgets>=7.0.0->gmaps) (18.1.0)\n",
      "Requirement already satisfied: python-dateutil>=2.1 in /opt/anaconda3/lib/python3.7/site-packages (from jupyter-client->ipykernel>=4.5.1->ipywidgets>=7.0.0->gmaps) (2.8.0)\n",
      "Requirement already satisfied: Send2Trash in /opt/anaconda3/lib/python3.7/site-packages (from notebook>=4.4.1->widgetsnbextension~=3.5.0->ipywidgets>=7.0.0->gmaps) (1.5.0)\n",
      "Requirement already satisfied: prometheus-client in /opt/anaconda3/lib/python3.7/site-packages (from notebook>=4.4.1->widgetsnbextension~=3.5.0->ipywidgets>=7.0.0->gmaps) (0.7.1)\n",
      "Requirement already satisfied: nbconvert in /opt/anaconda3/lib/python3.7/site-packages (from notebook>=4.4.1->widgetsnbextension~=3.5.0->ipywidgets>=7.0.0->gmaps) (5.6.0)\n",
      "Requirement already satisfied: jinja2 in /opt/anaconda3/lib/python3.7/site-packages (from notebook>=4.4.1->widgetsnbextension~=3.5.0->ipywidgets>=7.0.0->gmaps) (2.10.3)\n",
      "Requirement already satisfied: terminado>=0.8.1 in /opt/anaconda3/lib/python3.7/site-packages (from notebook>=4.4.1->widgetsnbextension~=3.5.0->ipywidgets>=7.0.0->gmaps) (0.8.2)\n",
      "Requirement already satisfied: pyrsistent>=0.14.0 in /opt/anaconda3/lib/python3.7/site-packages (from jsonschema!=2.5.0,>=2.4->nbformat>=4.2.0->ipywidgets>=7.0.0->gmaps) (0.15.4)\n",
      "Requirement already satisfied: attrs>=17.4.0 in /opt/anaconda3/lib/python3.7/site-packages (from jsonschema!=2.5.0,>=2.4->nbformat>=4.2.0->ipywidgets>=7.0.0->gmaps) (19.2.0)\n",
      "Requirement already satisfied: entrypoints>=0.2.2 in /opt/anaconda3/lib/python3.7/site-packages (from nbconvert->notebook>=4.4.1->widgetsnbextension~=3.5.0->ipywidgets>=7.0.0->gmaps) (0.3)\n",
      "Requirement already satisfied: defusedxml in /opt/anaconda3/lib/python3.7/site-packages (from nbconvert->notebook>=4.4.1->widgetsnbextension~=3.5.0->ipywidgets>=7.0.0->gmaps) (0.6.0)\n",
      "Requirement already satisfied: pandocfilters>=1.4.1 in /opt/anaconda3/lib/python3.7/site-packages (from nbconvert->notebook>=4.4.1->widgetsnbextension~=3.5.0->ipywidgets>=7.0.0->gmaps) (1.4.2)\n",
      "Requirement already satisfied: testpath in /opt/anaconda3/lib/python3.7/site-packages (from nbconvert->notebook>=4.4.1->widgetsnbextension~=3.5.0->ipywidgets>=7.0.0->gmaps) (0.4.2)\n",
      "Requirement already satisfied: mistune<2,>=0.8.1 in /opt/anaconda3/lib/python3.7/site-packages (from nbconvert->notebook>=4.4.1->widgetsnbextension~=3.5.0->ipywidgets>=7.0.0->gmaps) (0.8.4)\n",
      "Requirement already satisfied: bleach in /opt/anaconda3/lib/python3.7/site-packages (from nbconvert->notebook>=4.4.1->widgetsnbextension~=3.5.0->ipywidgets>=7.0.0->gmaps) (3.1.0)\n",
      "Requirement already satisfied: MarkupSafe>=0.23 in /opt/anaconda3/lib/python3.7/site-packages (from jinja2->notebook>=4.4.1->widgetsnbextension~=3.5.0->ipywidgets>=7.0.0->gmaps) (1.1.1)\n",
      "Requirement already satisfied: webencodings in /opt/anaconda3/lib/python3.7/site-packages (from bleach->nbconvert->notebook>=4.4.1->widgetsnbextension~=3.5.0->ipywidgets>=7.0.0->gmaps) (0.5.1)\n"
     ]
    }
   ],
   "source": [
    "!pip install gmaps\n"
   ]
  },
  {
   "cell_type": "code",
   "execution_count": 241,
   "metadata": {},
   "outputs": [
    {
     "name": "stdout",
     "output_type": "stream",
     "text": [
      "Enabling notebook extension jupyter-gmaps/extension...\r\n",
      "      - Validating: \u001b[32mOK\u001b[0m\r\n"
     ]
    }
   ],
   "source": [
    "!jupyter nbextension enable --py --sys-prefix gmaps\n"
   ]
  },
  {
   "cell_type": "code",
   "execution_count": 242,
   "metadata": {},
   "outputs": [],
   "source": [
    "# Dependencies and Setup\n",
    "import matplotlib.pyplot as plt\n",
    "import pandas as pd\n",
    "import numpy as np\n",
    "import requests\n",
    "import gmaps\n",
    "import os\n",
    "\n",
    "# Google developer API key\n",
    "from api_keys import g_key\n",
    "\n",
    "# Access maps with unique API key\n",
    "gmaps.configure(api_key=\"ENTER KEY HERE\")"
   ]
  },
  {
   "cell_type": "markdown",
   "metadata": {},
   "source": [
    "### Store Part I results into DataFrame\n",
    "* Load the csv exported in Part I to a DataFrame"
   ]
  },
  {
   "cell_type": "code",
   "execution_count": 243,
   "metadata": {},
   "outputs": [
    {
     "data": {
      "text/html": [
       "<div>\n",
       "<style scoped>\n",
       "    .dataframe tbody tr th:only-of-type {\n",
       "        vertical-align: middle;\n",
       "    }\n",
       "\n",
       "    .dataframe tbody tr th {\n",
       "        vertical-align: top;\n",
       "    }\n",
       "\n",
       "    .dataframe thead th {\n",
       "        text-align: right;\n",
       "    }\n",
       "</style>\n",
       "<table border=\"1\" class=\"dataframe\">\n",
       "  <thead>\n",
       "    <tr style=\"text-align: right;\">\n",
       "      <th></th>\n",
       "      <th>City_ID</th>\n",
       "      <th>City</th>\n",
       "      <th>Cloudiness</th>\n",
       "      <th>Country</th>\n",
       "      <th>Date</th>\n",
       "      <th>Humidity</th>\n",
       "      <th>Lat</th>\n",
       "      <th>Lng</th>\n",
       "      <th>Max Temp</th>\n",
       "      <th>Wind Speed</th>\n",
       "    </tr>\n",
       "  </thead>\n",
       "  <tbody>\n",
       "    <tr>\n",
       "      <td>0</td>\n",
       "      <td>0</td>\n",
       "      <td>ostrovnoy</td>\n",
       "      <td>2</td>\n",
       "      <td>RU</td>\n",
       "      <td>1558378754</td>\n",
       "      <td>72</td>\n",
       "      <td>68.05</td>\n",
       "      <td>39.51</td>\n",
       "      <td>37.50</td>\n",
       "      <td>7.16</td>\n",
       "    </tr>\n",
       "    <tr>\n",
       "      <td>1</td>\n",
       "      <td>1</td>\n",
       "      <td>mahebourg</td>\n",
       "      <td>75</td>\n",
       "      <td>MU</td>\n",
       "      <td>1558378503</td>\n",
       "      <td>74</td>\n",
       "      <td>-20.41</td>\n",
       "      <td>57.70</td>\n",
       "      <td>78.80</td>\n",
       "      <td>11.41</td>\n",
       "    </tr>\n",
       "    <tr>\n",
       "      <td>2</td>\n",
       "      <td>2</td>\n",
       "      <td>qaanaaq</td>\n",
       "      <td>25</td>\n",
       "      <td>GL</td>\n",
       "      <td>1558378755</td>\n",
       "      <td>73</td>\n",
       "      <td>77.48</td>\n",
       "      <td>-69.36</td>\n",
       "      <td>22.20</td>\n",
       "      <td>2.37</td>\n",
       "    </tr>\n",
       "    <tr>\n",
       "      <td>3</td>\n",
       "      <td>3</td>\n",
       "      <td>zhuhai</td>\n",
       "      <td>0</td>\n",
       "      <td>CN</td>\n",
       "      <td>1558378755</td>\n",
       "      <td>39</td>\n",
       "      <td>40.71</td>\n",
       "      <td>112.04</td>\n",
       "      <td>44.60</td>\n",
       "      <td>4.47</td>\n",
       "    </tr>\n",
       "    <tr>\n",
       "      <td>4</td>\n",
       "      <td>4</td>\n",
       "      <td>cape town</td>\n",
       "      <td>20</td>\n",
       "      <td>ZA</td>\n",
       "      <td>1558378755</td>\n",
       "      <td>76</td>\n",
       "      <td>-33.93</td>\n",
       "      <td>18.42</td>\n",
       "      <td>55.99</td>\n",
       "      <td>8.05</td>\n",
       "    </tr>\n",
       "  </tbody>\n",
       "</table>\n",
       "</div>"
      ],
      "text/plain": [
       "   City_ID       City  Cloudiness Country        Date  Humidity    Lat  \\\n",
       "0        0  ostrovnoy           2      RU  1558378754        72  68.05   \n",
       "1        1  mahebourg          75      MU  1558378503        74 -20.41   \n",
       "2        2    qaanaaq          25      GL  1558378755        73  77.48   \n",
       "3        3     zhuhai           0      CN  1558378755        39  40.71   \n",
       "4        4  cape town          20      ZA  1558378755        76 -33.93   \n",
       "\n",
       "      Lng  Max Temp  Wind Speed  \n",
       "0   39.51     37.50        7.16  \n",
       "1   57.70     78.80       11.41  \n",
       "2  -69.36     22.20        2.37  \n",
       "3  112.04     44.60        4.47  \n",
       "4   18.42     55.99        8.05  "
      ]
     },
     "execution_count": 243,
     "metadata": {},
     "output_type": "execute_result"
    }
   ],
   "source": [
    "data_file = \"../output_data/cities.csv\"\n",
    "cities_df = pd.read_csv(data_file)\n",
    "\n",
    "\n",
    "cities_df.dropna()\n",
    "cities_df.head()"
   ]
  },
  {
   "cell_type": "markdown",
   "metadata": {},
   "source": [
    "### Humidity Heatmap\n",
    "* Configure gmaps.\n",
    "* Use the Lat and Lng as locations and Humidity as the weight.\n",
    "* Add Heatmap layer to map."
   ]
  },
  {
   "cell_type": "code",
   "execution_count": 244,
   "metadata": {},
   "outputs": [],
   "source": [
    "gmaps.configure(api_key=\"ENTER KEY HERE\")\n"
   ]
  },
  {
   "cell_type": "code",
   "execution_count": 245,
   "metadata": {},
   "outputs": [],
   "source": [
    "locations = cities_df[[\"Lat\", \"Lng\"]]\n",
    "\n",
    "humidity = cities_df[\"Humidity\"].astype(float)"
   ]
  },
  {
   "cell_type": "code",
   "execution_count": 246,
   "metadata": {},
   "outputs": [
    {
     "data": {
      "application/vnd.jupyter.widget-view+json": {
       "model_id": "336455b437904b1d9697bff567ab4df4",
       "version_major": 2,
       "version_minor": 0
      },
      "text/plain": [
       "Figure(layout=FigureLayout(height='420px'))"
      ]
     },
     "metadata": {},
     "output_type": "display_data"
    }
   ],
   "source": [
    "# Plot Heatmap\n",
    "fig = gmaps.figure(map_type=\"TERRAIN\")\n",
    "\n",
    "# Create heat layer\n",
    "heat_layer = gmaps.heatmap_layer(locations, weights=humidity, \n",
    "                                 dissipating=False, max_intensity=130,\n",
    "                                 point_radius=3)\n",
    "\n",
    "\n",
    "# Add layer\n",
    "fig.add_layer(heat_layer)\n",
    "\n",
    "# Display figure\n",
    "fig"
   ]
  },
  {
   "cell_type": "code",
   "execution_count": null,
   "metadata": {},
   "outputs": [],
   "source": []
  },
  {
   "cell_type": "markdown",
   "metadata": {},
   "source": [
    "### Create new DataFrame fitting weather criteria\n",
    "* Narrow down the cities to fit weather conditions.\n",
    "* Drop any rows will null values."
   ]
  },
  {
   "cell_type": "code",
   "execution_count": 247,
   "metadata": {},
   "outputs": [
    {
     "data": {
      "text/html": [
       "<div>\n",
       "<style scoped>\n",
       "    .dataframe tbody tr th:only-of-type {\n",
       "        vertical-align: middle;\n",
       "    }\n",
       "\n",
       "    .dataframe tbody tr th {\n",
       "        vertical-align: top;\n",
       "    }\n",
       "\n",
       "    .dataframe thead th {\n",
       "        text-align: right;\n",
       "    }\n",
       "</style>\n",
       "<table border=\"1\" class=\"dataframe\">\n",
       "  <thead>\n",
       "    <tr style=\"text-align: right;\">\n",
       "      <th></th>\n",
       "      <th>City_ID</th>\n",
       "      <th>City</th>\n",
       "      <th>Cloudiness</th>\n",
       "      <th>Country</th>\n",
       "      <th>Date</th>\n",
       "      <th>Humidity</th>\n",
       "      <th>Lat</th>\n",
       "      <th>Lng</th>\n",
       "      <th>Max Temp</th>\n",
       "      <th>Wind Speed</th>\n",
       "    </tr>\n",
       "  </thead>\n",
       "  <tbody>\n",
       "    <tr>\n",
       "      <td>7</td>\n",
       "      <td>7</td>\n",
       "      <td>opuwo</td>\n",
       "      <td>0</td>\n",
       "      <td>NaN</td>\n",
       "      <td>1558378523</td>\n",
       "      <td>23</td>\n",
       "      <td>-18.06</td>\n",
       "      <td>13.84</td>\n",
       "      <td>72.06</td>\n",
       "      <td>5.44</td>\n",
       "    </tr>\n",
       "    <tr>\n",
       "      <td>70</td>\n",
       "      <td>70</td>\n",
       "      <td>ponta do sol</td>\n",
       "      <td>0</td>\n",
       "      <td>BR</td>\n",
       "      <td>1558378767</td>\n",
       "      <td>57</td>\n",
       "      <td>-20.63</td>\n",
       "      <td>-46.00</td>\n",
       "      <td>73.68</td>\n",
       "      <td>5.32</td>\n",
       "    </tr>\n",
       "    <tr>\n",
       "      <td>88</td>\n",
       "      <td>88</td>\n",
       "      <td>cidreira</td>\n",
       "      <td>0</td>\n",
       "      <td>BR</td>\n",
       "      <td>1558378770</td>\n",
       "      <td>66</td>\n",
       "      <td>-30.17</td>\n",
       "      <td>-50.22</td>\n",
       "      <td>76.56</td>\n",
       "      <td>5.50</td>\n",
       "    </tr>\n",
       "    <tr>\n",
       "      <td>138</td>\n",
       "      <td>138</td>\n",
       "      <td>morondava</td>\n",
       "      <td>0</td>\n",
       "      <td>MG</td>\n",
       "      <td>1558378780</td>\n",
       "      <td>69</td>\n",
       "      <td>-20.30</td>\n",
       "      <td>44.28</td>\n",
       "      <td>79.08</td>\n",
       "      <td>9.06</td>\n",
       "    </tr>\n",
       "    <tr>\n",
       "      <td>139</td>\n",
       "      <td>139</td>\n",
       "      <td>vaini</td>\n",
       "      <td>0</td>\n",
       "      <td>IN</td>\n",
       "      <td>1558378780</td>\n",
       "      <td>88</td>\n",
       "      <td>15.34</td>\n",
       "      <td>74.49</td>\n",
       "      <td>78.90</td>\n",
       "      <td>1.59</td>\n",
       "    </tr>\n",
       "    <tr>\n",
       "      <td>176</td>\n",
       "      <td>176</td>\n",
       "      <td>nador</td>\n",
       "      <td>0</td>\n",
       "      <td>MA</td>\n",
       "      <td>1558378499</td>\n",
       "      <td>40</td>\n",
       "      <td>35.17</td>\n",
       "      <td>-2.93</td>\n",
       "      <td>75.20</td>\n",
       "      <td>6.93</td>\n",
       "    </tr>\n",
       "    <tr>\n",
       "      <td>297</td>\n",
       "      <td>297</td>\n",
       "      <td>mogok</td>\n",
       "      <td>0</td>\n",
       "      <td>MM</td>\n",
       "      <td>1558378844</td>\n",
       "      <td>51</td>\n",
       "      <td>22.92</td>\n",
       "      <td>96.51</td>\n",
       "      <td>72.24</td>\n",
       "      <td>2.77</td>\n",
       "    </tr>\n",
       "    <tr>\n",
       "      <td>444</td>\n",
       "      <td>444</td>\n",
       "      <td>birjand</td>\n",
       "      <td>0</td>\n",
       "      <td>IR</td>\n",
       "      <td>1558378880</td>\n",
       "      <td>26</td>\n",
       "      <td>32.86</td>\n",
       "      <td>59.22</td>\n",
       "      <td>71.60</td>\n",
       "      <td>9.17</td>\n",
       "    </tr>\n",
       "  </tbody>\n",
       "</table>\n",
       "</div>"
      ],
      "text/plain": [
       "     City_ID          City  Cloudiness Country        Date  Humidity    Lat  \\\n",
       "7          7         opuwo           0     NaN  1558378523        23 -18.06   \n",
       "70        70  ponta do sol           0      BR  1558378767        57 -20.63   \n",
       "88        88      cidreira           0      BR  1558378770        66 -30.17   \n",
       "138      138     morondava           0      MG  1558378780        69 -20.30   \n",
       "139      139         vaini           0      IN  1558378780        88  15.34   \n",
       "176      176         nador           0      MA  1558378499        40  35.17   \n",
       "297      297         mogok           0      MM  1558378844        51  22.92   \n",
       "444      444       birjand           0      IR  1558378880        26  32.86   \n",
       "\n",
       "       Lng  Max Temp  Wind Speed  \n",
       "7    13.84     72.06        5.44  \n",
       "70  -46.00     73.68        5.32  \n",
       "88  -50.22     76.56        5.50  \n",
       "138  44.28     79.08        9.06  \n",
       "139  74.49     78.90        1.59  \n",
       "176  -2.93     75.20        6.93  \n",
       "297  96.51     72.24        2.77  \n",
       "444  59.22     71.60        9.17  "
      ]
     },
     "execution_count": 247,
     "metadata": {},
     "output_type": "execute_result"
    }
   ],
   "source": [
    "newdf = pd.DataFrame(cities_df)\n",
    "\n",
    "max_temp = (newdf[\"Max Temp\"] < 80) & (newdf[\"Max Temp\"] > 70)\n",
    "windspeed = newdf[\"Wind Speed\"] < 10\n",
    "nocloudy = newdf[\"Cloudiness\"] == 0\n",
    "\n",
    "newnewdf = newdf[max_temp & windspeed & nocloudy ]\n",
    "newnewdf"
   ]
  },
  {
   "cell_type": "markdown",
   "metadata": {},
   "source": [
    "### Hotel Map\n",
    "* Store into variable named `hotel_df`.\n",
    "* Add a \"Hotel Name\" column to the DataFrame.\n",
    "* Set parameters to search for hotels with 5000 meters.\n",
    "* Hit the Google Places API for each city's coordinates.\n",
    "* Store the first Hotel result into the DataFrame.\n",
    "* Plot markers on top of the heatmap."
   ]
  },
  {
   "cell_type": "code",
   "execution_count": 248,
   "metadata": {
    "scrolled": true
   },
   "outputs": [
    {
     "data": {
      "text/html": [
       "<div>\n",
       "<style scoped>\n",
       "    .dataframe tbody tr th:only-of-type {\n",
       "        vertical-align: middle;\n",
       "    }\n",
       "\n",
       "    .dataframe tbody tr th {\n",
       "        vertical-align: top;\n",
       "    }\n",
       "\n",
       "    .dataframe thead th {\n",
       "        text-align: right;\n",
       "    }\n",
       "</style>\n",
       "<table border=\"1\" class=\"dataframe\">\n",
       "  <thead>\n",
       "    <tr style=\"text-align: right;\">\n",
       "      <th></th>\n",
       "      <th>City</th>\n",
       "      <th>Country</th>\n",
       "      <th>Lat</th>\n",
       "      <th>Lng</th>\n",
       "      <th>Hotel Name</th>\n",
       "    </tr>\n",
       "  </thead>\n",
       "  <tbody>\n",
       "    <tr>\n",
       "      <td>7</td>\n",
       "      <td>opuwo</td>\n",
       "      <td>NaN</td>\n",
       "      <td>-18.06</td>\n",
       "      <td>13.84</td>\n",
       "      <td></td>\n",
       "    </tr>\n",
       "    <tr>\n",
       "      <td>70</td>\n",
       "      <td>ponta do sol</td>\n",
       "      <td>BR</td>\n",
       "      <td>-20.63</td>\n",
       "      <td>-46.00</td>\n",
       "      <td></td>\n",
       "    </tr>\n",
       "    <tr>\n",
       "      <td>88</td>\n",
       "      <td>cidreira</td>\n",
       "      <td>BR</td>\n",
       "      <td>-30.17</td>\n",
       "      <td>-50.22</td>\n",
       "      <td></td>\n",
       "    </tr>\n",
       "    <tr>\n",
       "      <td>138</td>\n",
       "      <td>morondava</td>\n",
       "      <td>MG</td>\n",
       "      <td>-20.30</td>\n",
       "      <td>44.28</td>\n",
       "      <td></td>\n",
       "    </tr>\n",
       "    <tr>\n",
       "      <td>139</td>\n",
       "      <td>vaini</td>\n",
       "      <td>IN</td>\n",
       "      <td>15.34</td>\n",
       "      <td>74.49</td>\n",
       "      <td></td>\n",
       "    </tr>\n",
       "    <tr>\n",
       "      <td>176</td>\n",
       "      <td>nador</td>\n",
       "      <td>MA</td>\n",
       "      <td>35.17</td>\n",
       "      <td>-2.93</td>\n",
       "      <td></td>\n",
       "    </tr>\n",
       "    <tr>\n",
       "      <td>297</td>\n",
       "      <td>mogok</td>\n",
       "      <td>MM</td>\n",
       "      <td>22.92</td>\n",
       "      <td>96.51</td>\n",
       "      <td></td>\n",
       "    </tr>\n",
       "    <tr>\n",
       "      <td>444</td>\n",
       "      <td>birjand</td>\n",
       "      <td>IR</td>\n",
       "      <td>32.86</td>\n",
       "      <td>59.22</td>\n",
       "      <td></td>\n",
       "    </tr>\n",
       "  </tbody>\n",
       "</table>\n",
       "</div>"
      ],
      "text/plain": [
       "             City Country    Lat    Lng Hotel Name\n",
       "7           opuwo     NaN -18.06  13.84           \n",
       "70   ponta do sol      BR -20.63 -46.00           \n",
       "88       cidreira      BR -30.17 -50.22           \n",
       "138     morondava      MG -20.30  44.28           \n",
       "139         vaini      IN  15.34  74.49           \n",
       "176         nador      MA  35.17  -2.93           \n",
       "297         mogok      MM  22.92  96.51           \n",
       "444       birjand      IR  32.86  59.22           "
      ]
     },
     "execution_count": 248,
     "metadata": {},
     "output_type": "execute_result"
    }
   ],
   "source": [
    "hotel_df = pd.DataFrame(newnewdf, columns=[\"City\",\"Country\",\"Lat\",\"Lng\"])\n",
    "\n",
    "hotel_df[\"Hotel Name\"] = \"\"\n",
    "hotel_df"
   ]
  },
  {
   "cell_type": "code",
   "execution_count": 249,
   "metadata": {},
   "outputs": [
    {
     "name": "stdout",
     "output_type": "stream",
     "text": [
      "Pretty printing has been turned OFF\n"
     ]
    }
   ],
   "source": [
    "pprint(response.json(), depth=1)\n"
   ]
  },
  {
   "cell_type": "code",
   "execution_count": 250,
   "metadata": {},
   "outputs": [
    {
     "data": {
      "text/html": [
       "<div>\n",
       "<style scoped>\n",
       "    .dataframe tbody tr th:only-of-type {\n",
       "        vertical-align: middle;\n",
       "    }\n",
       "\n",
       "    .dataframe tbody tr th {\n",
       "        vertical-align: top;\n",
       "    }\n",
       "\n",
       "    .dataframe thead th {\n",
       "        text-align: right;\n",
       "    }\n",
       "</style>\n",
       "<table border=\"1\" class=\"dataframe\">\n",
       "  <thead>\n",
       "    <tr style=\"text-align: right;\">\n",
       "      <th></th>\n",
       "      <th>City</th>\n",
       "      <th>Country</th>\n",
       "      <th>Lat</th>\n",
       "      <th>Lng</th>\n",
       "      <th>Hotel Name</th>\n",
       "    </tr>\n",
       "  </thead>\n",
       "  <tbody>\n",
       "    <tr>\n",
       "      <td>7</td>\n",
       "      <td>opuwo</td>\n",
       "      <td>NaN</td>\n",
       "      <td>-18.06</td>\n",
       "      <td>13.84</td>\n",
       "      <td></td>\n",
       "    </tr>\n",
       "    <tr>\n",
       "      <td>70</td>\n",
       "      <td>ponta do sol</td>\n",
       "      <td>BR</td>\n",
       "      <td>-20.63</td>\n",
       "      <td>-46.00</td>\n",
       "      <td></td>\n",
       "    </tr>\n",
       "    <tr>\n",
       "      <td>88</td>\n",
       "      <td>cidreira</td>\n",
       "      <td>BR</td>\n",
       "      <td>-30.17</td>\n",
       "      <td>-50.22</td>\n",
       "      <td></td>\n",
       "    </tr>\n",
       "    <tr>\n",
       "      <td>138</td>\n",
       "      <td>morondava</td>\n",
       "      <td>MG</td>\n",
       "      <td>-20.30</td>\n",
       "      <td>44.28</td>\n",
       "      <td></td>\n",
       "    </tr>\n",
       "    <tr>\n",
       "      <td>139</td>\n",
       "      <td>vaini</td>\n",
       "      <td>IN</td>\n",
       "      <td>15.34</td>\n",
       "      <td>74.49</td>\n",
       "      <td></td>\n",
       "    </tr>\n",
       "  </tbody>\n",
       "</table>\n",
       "</div>"
      ],
      "text/plain": [
       "             City Country    Lat    Lng Hotel Name\n",
       "7           opuwo     NaN -18.06  13.84           \n",
       "70   ponta do sol      BR -20.63 -46.00           \n",
       "88       cidreira      BR -30.17 -50.22           \n",
       "138     morondava      MG -20.30  44.28           \n",
       "139         vaini      IN  15.34  74.49           "
      ]
     },
     "execution_count": 250,
     "metadata": {},
     "output_type": "execute_result"
    }
   ],
   "source": [
    "hotel_df.head()\n"
   ]
  },
  {
   "cell_type": "code",
   "execution_count": 251,
   "metadata": {},
   "outputs": [],
   "source": [
    "params={\n",
    "    \"radius\": 5000,\n",
    "    \"keyword\": \"hotel\",\n",
    "    \"key\": g_key\n",
    "}\n",
    "\n",
    "for index,row in hotel_df.iterrows():\n",
    "    lat=row[\"Lat\"]\n",
    "    lng=row[\"Lng\"]\n",
    "    params[\"location\"] = f\"{lat},{lng}\"\n",
    "    \n",
    "    base_url = \"https://maps.googleapis.com/maps/api/place/nearbysearch/json\"\n",
    "    \n",
    "    name_address = requests.get(base_url, params=params)\n",
    "    \n",
    "    name_address = name_address.json()\n",
    "    \n",
    "    try:\n",
    "        hotel_df.loc[index, \"Hotel Name\"] = name_address[\"results\"][0][\"name\"]\n",
    "    except (KeyError, IndexError):\n",
    "        print(\"Missing field/result... skipping.\")"
   ]
  },
  {
   "cell_type": "code",
   "execution_count": 252,
   "metadata": {},
   "outputs": [
    {
     "data": {
      "text/plain": [
       "[nan, 'Shandrani Beachcomber Resort & Spa', 'Qaanaaq Hotel', nan, 'Signature Lux Hotel by ONOMO, Waterfront', 'Villa Enata', 'Barrack Point Holidays', 'Opuwo Country Lodge', nan, 'The guest house \"The Tale here\"', 'Hotel Astoria', 'Enjoy Chiloé. Hotel De La Isla', 'Muri Beach Club Hotel Rarotonga', nan, 'Hotel Gobernador', 'Renaissance Albany Hotel', 'Gostinitsa \"Mariya\"', 'Los Cauquenes Resort & Spa', 'Laguna Beach Hotel & Spa', 'Отель Купеческий', 'Milky Resort', 'Esplanade Hotel', 'Domaine de Rochevilaine', 'Salinas do Maragogi All Inclusive Resort', nan, 'โรงแรมกันตังปาร์ค(Kantang Park Hotel)', \"AMAAN'S HOUSE\", 'Hotel Cabo de Hornos', \"Pension Maro'i\", 'The Woodbridge', 'Goba Lodge', 'The Westin Qingdao', 'Quarter Deck Inn', nan, nan, 'Long House Hotel Bethel', 'AmericInn by Wyndham, Fulton Clinton', 'Huset ved havet', nan, nan, 'Nautilus Cottage', \"Best Western Plus St. John's Airport Hotel and Suites\", 'The Explorer Hotel', nan, 'Hotel Solymar Galapagos', 'Hotel Rosita', nan, nan, 'The Halyards Hotel', nan, nan, 'Grand Hotel Snack', 'دفتردستک محمدسیاه', 'Waldorf Astoria Los Cabos Pedregal', 'Le Rocher de Tahiti', nan, 'Embassy Beach', nan, 'Hótel Höfn', 'Garuda Hotel Bontang', 'Kewadin Casinos – Sault Ste. Marie', nan, 'Best Western Thompson Hotel & Suites', \"Munitsipal'naya Gostinitsa\", 'Hotel Kap Farvel', 'Profilaktoriy Baes', nan, nan, 'BejaParque Hotel', 'Balneario de Leana', 'Kanto Island Inn Suites & Spa', nan, 'Isles Sunset Lodge', 'The Oceanfront Inn', nan, nan, 'Hotel Sanches', 'Provintsiya', 'Hotel Panoramic', 'Hotel Peace Palace, Baglung, Nepal', 'Solscape', 'Jamestown Hotel', 'Sur Plaza Hotel', nan, 'Emerald Star Hotel', 'Mercure Launceston', nan, 'Hotel National', 'Pousada Rosa', nan, 'Hotel Ferreira', 'Santa Ines Bella Vista Hotel', 'Qionghai Hotel', 'Best Western Plus Delta Inn & Suites', 'Park Inn by Radisson, Najran', nan, \"Ellie's Villa\", nan, 'Baza Otdykha \"Raukhova Mel\\'nitsa\"', nan, 'Penginapan Kofiyau', 'Delta Hotels by Marriott Kingston Waterfront', 'Inn at Creek Street', 'Hilton Garden Inn Kauai Wailua Bay', nan, 'Qianhao Hotel', 'Hilo Hawaiian Hotel', 'Best Western Gold Rush Inn', 'Bonthe Holiday Village', nan, 'Embassy Suites by Hilton Lompoc Central Coast', 'Sinclairs Bayview Port Blair', '6 On Kloof Guesthouse', nan, 'Hotel Karem Bay', 'InterContinental Bora Bora Resort Thalasso Spa', 'Keochinda hotel', 'Blue Lagoon Hotel', 'Hotel Xaguate', nan, 'Hotel Internacional', nan, \"Hotel Residence Torre Sant'Angelo\", 'Лагуна', 'Hotel Reinares', 'Orlanova Hotel', 'Villa Howden', 'Sundog Inn', nan, \"Victor's Hotel\", 'Hotel El Merecure', 'Gostinitsa Ip Zabirov', 'Best Western Plus Wendover Inn', 'Hôtel TAKIALT', 'Hotel Castagneto', 'Kibungo - Centre St. Joseph Guest House', 'Frobisher Inn', nan, 'Kimony Resort Hotel', 'Dandeli Dreams Jungle resorts', 'Guyana Marriott Hotel Georgetown', nan, 'Tube well mirza rehan', 'Xinhao Business Hotel', 'Holiday Inn Express & Suites Plainview', 'WAM Hotel Patagónico', nan, 'Hotel Cambri', 'Taif hotel', 'Jinjiang International Hotel Ganzhou', 'Talnakh Hotel', nan, 'Hotel Du Fleuve', 'Hotel Pousada Paradise', 'Havøysund Hotel & Rorbuer', 'Snowhotel Kirkenes', 'Hotel Narsaq', \"Phil & Ann's Sunset Motel\", 'Rimklong Boutique Hotel', 'Four Points by Sheraton Manado', 'Residence la Gancia', 'Pousada Cassino', nan, \"Raven's Rest Inn\", 'Hyatt Regency Kathmandu', 'Heritage Hotel', 'Holiday Inn Express & Suites Brainerd-Baxter', '玉门宾馆', 'Jægtvolden Fjordhotell', 'Hotel Porto Santo & Spa', nan, nan, 'Hotel Belle Vue', 'Nusa Island Retreat', 'Zabalanquira Hotel De Montaña', 'Naujaaraaluit – Clyde River Hotel', 'Hotel Marchica Lagoon Resort, Nador Morocco', 'Hotel Keflavik', nan, nan, 'Hôtel Cap Macabou', 'Hotel Angmagssalik', nan, \"Miss Emily's Place\", 'Beach Hotel Burnie', nan, nan, nan, 'Pestana Palm Gardens', 'Bluff Hotel', 'Comfort Inn', 'Hotel North Palmyra', 'The Esplanade Hotel', 'Rekidhiye Inn', nan, 'Coraki Hotel', 'Hotel Arctic', 'Hotel Boutique Costa Del Sol', 'Mauricia Beachcomber Resort & Spa', 'KAABONG RESORT HOTEL', 'Hotel Rincon Campestre', 'Hotel Presidente Luanda', 'Hotel Patagonia', 'Namatanai Hotel', 'Kak Doma', nan, nan, nan, nan, 'Yeet Hotel', 'Quinta Das Buganvílias', nan, 'The Old Mount Gambier Gaol', 'Posada el portal de la Loma', 'Abacus Motel', 'Les Deux Vélos Cycle Lodge', 'Hotel Grand Chancellor Hobart', 'Clayton Hotel Ballsbridge', 'Al Baleed Resort Salalah by Anantara', nan, nan, 'Marawi Resort Hotel', 'LA QUINTA PRIMAVERA', nan, nan, 'Lord Carnarvon Guesthouse', 'MOB HOTEL', 'Amir hotel', 'Howard Johnson Hotel & Marinas San Pedro Resort', nan, 'Fairfield Inn & Suites by Marriott Moses Lake', 'Sāo Cristóvão', 'Sheraton Hamilton Hotel', 'Dreamsea Surf Resort Nicaragua', nan, 'RedDoorz @ Cisaga', nan, 'Andradas Palace Hotel', 'Hotel Royal', 'Manzhouli International Hotel', 'Commercial Hotel', 'Chukotka hotel', 'REER XOOSHLE GROUP', 'Mandry', 'Juddi Hotel', \"Smitty's Bed and Breakfast\", 'Gostinitsa \"Sakhalin-Sfera\"', 'Hotel Santa Fe', 'Panamericana Hotel Ancud', 'Edna Addis Hotel', 'Port Lincoln Hotel', nan, 'KARTANOHOTELLI KAROLINEBURG', 'Adelaide Road Motor Lodge', 'Hotel Trocadero', nan, 'Hotel Diana', 'Hotel Bambou', 'Te Anau Lakeview Kiwi Holiday Park & Motels', 'Hami Hotel', 'Best Western Pahrump Oasis', 'Copper River Inn', 'Mayfair Hotel', 'Hotel Soyuz', 'Iloha Seaview Hotel', 'Thuraya Tourist Hotel', 'DoubleTree by Hilton Hotel Alice Springs', 'Hotel Roraima Suites', nan, 'Turtle Nest Inn', 'Victoria Hotel', 'Hotel Dreams de la Patagonia', 'Dumont Palace Hotel', 'Hotel Mercure Santa Rosa La Pampa', 'Samuels Hotel', 'Hotel Iparana Paradise', 'Santa Barbara Eco-Beach Resort', 'Kinwica', 'Grand Hotel Montabo', nan, 'Hacienda Hato Verde', '別邸 海と森', 'Lakeview Inns & Suites - Slave Lake', 'Chateau on the Park - Christchurch, a DoubleTree by Hilton', nan, 'LÜDERITZ NEST HOTEL', \"Trishcia's Guest House\", 'Pangnirtung Fjordview Bed and Breakfast', nan, 'Robin Hood Village Resort', 'Hotel Viktoria', 'Hotel Florida', 'Club Mahindra Madikeri Resort In Coorg', 'Bentley 24hr Room Accommodation', 'Protea Hotel by Marriott Takoradi Select', 'Gostinitsa Lyuks', nan, 'Mount Mogok Hotel', 'Scandic Mikkeli', 'Jiuquan Hotel', nan, nan, 'Taloa Heights', 'Sails in the Desert', 'Ooo \"Kvarkeno\"', 'Hotel Atalaia Inn', nan, 'Wains Hotel Dunedin', nan, \"Gina's Guesthouse - Upernavik\", nan, 'Nebitchi Hotel', 'Gostinitsa \"Polar\"', 'House otdaha locomotive crews', 'tansag hotel', 'Hotel Yanuba, Miraflores', 'Footsteps Eco Lodge, The Gambia', 'Wajiima Onsen Yashio', 'Maringe Lagoon Lodge', 'Pousada Gargalheiras', 'HOTEL CALYPSO', 'Granada Hotel Mandera', 'hôtel paradis de Tshikapa', 'Four Points by Sheraton Juneau', 'Holiday Inn Express & Suites Sidney', nan, 'Bohio Dive Resort', 'Hotel Sunroute Goshogawara', 'The IMPERIAL Hotel', 'The Montenotte Hotel', nan, 'Hotel Miyahira', 'Golden Shore Resort', 'Gostiny Dvor Evgeniya', nan, 'Zhongtian Hotel', 'Aye Chan Myaing Hotel', 'Crowne Plaza Acapulco', 'Umthunzi Hotel & Conference', nan, 'Mint Hotel', 'Onway Lake Family Resort', 'Sea View Hotel', 'Yalemd', 'Okaerinasai', 'Hotel Eseka Palace', 'The Nesbitt Arms', nan, nan, nan, nan, 'Hôtel Opémiska', nan, 'Buudai Hotel', nan, nan, 'Gomang Boutique Hotel', 'Hotel Kyriad Muraya', 'Groote Eylandt Lodge', 'Lofoten Værøy Brygge', 'Woodlands Inn & Suites', 'Crown Victoria Hotel', 'Garden Hotel', 'Pestana Bahia Praia', 'Hotel Akureyri', 'Bannisters Pavilion', 'Alexander Beketov Guesthouse', nan, 'Malaya Gostinitsa', 'Cooma Motor Inn', 'Motel Valentina', 'Pazo do Souto', 'Shimoda Yamatokan', 'Gostinitsa', 'Solar De Alqueva', 'Courtyard by Marriott Fort Walton Beach-West Destin', 'Shangri La Hotel Qinhuangdao', 'Shoreline Inn & Conference C, Ascend Hotel Collection', 'Gostinitsa Grenada', nan, 'Radisson Blu Hotel Kayseri', 'Hilton Quanzhou Riverside', 'Hotel Lake Garda', 'Hampton Inn & Suites by Hilton Medicine Hat', nan, 'Altadomo Hotel', 'The Mill Casino • Hotel & RV Park', 'Paitití Hostel', 'Between Bridges Inn', 'Le domaine de Bellevue', 'The Harbour Inn', 'Hotel ibis Styles Iu Namibe', 'Westport Coast Hotel', 'Constantino Hotel', 'Eko Hotels & Suites', 'Beach House - Half Moon Bay', 'The Anchorage Port Stephens Hotel & Spa', 'Last Light Lodge', 'The Retreat at Blue Lagoon Iceland', 'Sofitel Xining', nan, 'Sikakubete Guest House Kalabo Town Council', 'Carrefour', nan, 'اوتيل City Stay', 'Hotel Labuan Point', 'DoubleTree by Hilton Hotel Pittsburgh - Cranberry', 'Tunka-350', 'Cristal Palace Hotel', 'ECO Lifestyle & Lodge', 'Ragaray Executive Suites', \"Mary-Ann's Polarrigg\", 'Hotel TGH - The Grand Highness', 'База отдыха \"Динамо\" Семинский перевал', 'Sarwary Hotel', nan, 'Kirkuk Plaza Hotel', 'hotêl doufoulougou', 'Endless Summer Lodge - BBH', 'Bayhaven Lodge', 'Manmimar Nature Lodge', 'InterContinental Carlton Cannes', 'Oao \"Susumanzoloto\"', 'Hotel Liebl', 'Hotel Karysmã', 'Hotel Royal Tocopilla', nan, 'Porters Boutique Hotel', 'Prozhivaniye V Okhotske', 'Hotel Maniitsoq', 'Khalifa Homestay', 'Hotel Los Corceles', 'Hotel Gamboa', nan, 'Hotel Labuan Point', 'Ban Mai Hotel', 'Hotel', 'Sunset Inn & Suites', 'The Old Lodge B&B', 'Hotel Marilu', 'Busta House Hotel', 'Gostinitsa Ivushka', 'The Nolangeni Hotel', nan, 'Sepehr Hotel', 'Lees Hotel', 'Desert Rendezvous', nan, 'Warwick Doha Hotel', \"Marriott's Ko Olina Beach Club\", 'Seeadler Bay Hotel', 'スーパーホテル阿南・富岡', nan, nan, 'Hotel Amazor', 'Nanxiang Barony Hotel', nan, 'Hyatt Regency Maui Resort And Spa', 'The Green Dragon Hotel', 'Hotel Iruya', nan, 'R&A Hotel', 'Lighthouse Lodge & Cottages', 'Muong Thanh Grand Quang Nam Hotel', nan, nan, 'Gostinitsa Norilsk', nan, 'Hotel Torre Luz', 'Tierra Alta Ecolodge', 'Hotel Novotel Barcelona City', nan, 'Sawtell Hotel', 'K-POP HOTEL Seoul Tower', 'The Plettenberg Hotel', 'Renaissance Aruba Resort & Casino', 'Pousada Convento de Belmonte', 'Young Australian Hotel & Function Centre', 'HARRIS Hotel Samarinda', 'Hotel Zumrat', nan, 'Seasons Hotel Narok', \"Ye-Otel'\", 'Gran Hotel Avenida', 'Hotel MarSur', 'Hôtel Nahoui', 'Wingate by Wyndham Bismarck', nan, 'Kashinin Hotel Ethiopia', nan, 'Romka Holiday Inn', nan, nan, 'Hotel Hans Egede', nan, 'Lavande Hotel Fuxin 318 Park', nan, 'Holiday Inn Express and Suites Havelock', 'Hotel Indigo Traverse City', 'Hotel Veleros Champoton', 'Mandal Hotel', 'Hotel ibis Delemont Delsberg', 'Bo Khin Guest House', nan, 'Pousada São Vicente', 'Casa Imperial Luxo', 'ASMOREIN HOTEL', 'Drostdy Hotel', 'Le Méridien Noumea Resort & Spa', 'Ramada by Wyndham Emerald Park/Regina East', 'Auberge mer et desert', 'Hotel Shimamoto', 'Natchez Grand Hotel', 'Grand Kesambi Resort and Villas', 'Keinnara Loikaw', nan, 'Sandies Tropical Village', 'Hotel West', 'Pousada Arte da Natureza', 'Silver Horseshoe Inn', 'Days Inn by Wyndham High Prairie', 'Hideaway Bahamas Beach Club', 'Ulvesund FYR', 'Hotel Kununurra', 'Dolphin Hotel', 'Manazeli Makkah Hotel', 'Hotel Austral Viedma', 'Hotel Hacienda Vieja', nan, 'Lancaster Inn', 'HOTEL LOCUS', 'Esplendor by Wyndham Mendoza', 'Key-oh Lodge', 'Vaihmalan Hovi', nan, 'Hotel Alavera', 'Mercure Padang', 'Hotel de Matam', 'Best Western Plus Hôtel La Corniche', 'Mercure Palu', 'Taverna U Dyadi Viti', 'Mercure Hotel Tamworth', 'Sunbank House Hotel', nan, 'Hampton Inn by Hilton Durango', 'B&B HOTEL', nan, 'Mushanhe Hotel']"
      ]
     },
     "execution_count": 252,
     "metadata": {},
     "output_type": "execute_result"
    }
   ],
   "source": [
    "hotel_name"
   ]
  },
  {
   "cell_type": "code",
   "execution_count": 253,
   "metadata": {
    "scrolled": true
   },
   "outputs": [
    {
     "data": {
      "text/html": [
       "<div>\n",
       "<style scoped>\n",
       "    .dataframe tbody tr th:only-of-type {\n",
       "        vertical-align: middle;\n",
       "    }\n",
       "\n",
       "    .dataframe tbody tr th {\n",
       "        vertical-align: top;\n",
       "    }\n",
       "\n",
       "    .dataframe thead th {\n",
       "        text-align: right;\n",
       "    }\n",
       "</style>\n",
       "<table border=\"1\" class=\"dataframe\">\n",
       "  <thead>\n",
       "    <tr style=\"text-align: right;\">\n",
       "      <th></th>\n",
       "      <th>City</th>\n",
       "      <th>Country</th>\n",
       "      <th>Lat</th>\n",
       "      <th>Lng</th>\n",
       "      <th>Hotel Name</th>\n",
       "    </tr>\n",
       "  </thead>\n",
       "  <tbody>\n",
       "    <tr>\n",
       "      <td>70</td>\n",
       "      <td>ponta do sol</td>\n",
       "      <td>BR</td>\n",
       "      <td>-20.63</td>\n",
       "      <td>-46.00</td>\n",
       "      <td>Escarpas Resort</td>\n",
       "    </tr>\n",
       "    <tr>\n",
       "      <td>88</td>\n",
       "      <td>cidreira</td>\n",
       "      <td>BR</td>\n",
       "      <td>-30.17</td>\n",
       "      <td>-50.22</td>\n",
       "      <td>Pousada Rosa</td>\n",
       "    </tr>\n",
       "    <tr>\n",
       "      <td>138</td>\n",
       "      <td>morondava</td>\n",
       "      <td>MG</td>\n",
       "      <td>-20.30</td>\n",
       "      <td>44.28</td>\n",
       "      <td>Kimony Resort Hotel</td>\n",
       "    </tr>\n",
       "    <tr>\n",
       "      <td>139</td>\n",
       "      <td>vaini</td>\n",
       "      <td>IN</td>\n",
       "      <td>15.34</td>\n",
       "      <td>74.49</td>\n",
       "      <td>Dandeli Dreams Jungle resorts</td>\n",
       "    </tr>\n",
       "    <tr>\n",
       "      <td>176</td>\n",
       "      <td>nador</td>\n",
       "      <td>MA</td>\n",
       "      <td>35.17</td>\n",
       "      <td>-2.93</td>\n",
       "      <td>Hotel Beautiful</td>\n",
       "    </tr>\n",
       "    <tr>\n",
       "      <td>297</td>\n",
       "      <td>mogok</td>\n",
       "      <td>MM</td>\n",
       "      <td>22.92</td>\n",
       "      <td>96.51</td>\n",
       "      <td>Mount Mogok Hotel</td>\n",
       "    </tr>\n",
       "    <tr>\n",
       "      <td>444</td>\n",
       "      <td>birjand</td>\n",
       "      <td>IR</td>\n",
       "      <td>32.86</td>\n",
       "      <td>59.22</td>\n",
       "      <td>Sepehr Hotel</td>\n",
       "    </tr>\n",
       "  </tbody>\n",
       "</table>\n",
       "</div>"
      ],
      "text/plain": [
       "             City Country    Lat    Lng                     Hotel Name\n",
       "70   ponta do sol      BR -20.63 -46.00                Escarpas Resort\n",
       "88       cidreira      BR -30.17 -50.22                   Pousada Rosa\n",
       "138     morondava      MG -20.30  44.28            Kimony Resort Hotel\n",
       "139         vaini      IN  15.34  74.49  Dandeli Dreams Jungle resorts\n",
       "176         nador      MA  35.17  -2.93                Hotel Beautiful\n",
       "297         mogok      MM  22.92  96.51              Mount Mogok Hotel\n",
       "444       birjand      IR  32.86  59.22                   Sepehr Hotel"
      ]
     },
     "execution_count": 253,
     "metadata": {},
     "output_type": "execute_result"
    }
   ],
   "source": [
    "hotel_df.dropna()"
   ]
  },
  {
   "cell_type": "code",
   "execution_count": 254,
   "metadata": {},
   "outputs": [
    {
     "data": {
      "text/html": [
       "<div>\n",
       "<style scoped>\n",
       "    .dataframe tbody tr th:only-of-type {\n",
       "        vertical-align: middle;\n",
       "    }\n",
       "\n",
       "    .dataframe tbody tr th {\n",
       "        vertical-align: top;\n",
       "    }\n",
       "\n",
       "    .dataframe thead th {\n",
       "        text-align: right;\n",
       "    }\n",
       "</style>\n",
       "<table border=\"1\" class=\"dataframe\">\n",
       "  <thead>\n",
       "    <tr style=\"text-align: right;\">\n",
       "      <th></th>\n",
       "      <th>City</th>\n",
       "      <th>Country</th>\n",
       "      <th>Lat</th>\n",
       "      <th>Lng</th>\n",
       "      <th>Hotel Name</th>\n",
       "    </tr>\n",
       "  </thead>\n",
       "  <tbody>\n",
       "    <tr>\n",
       "      <td>7</td>\n",
       "      <td>opuwo</td>\n",
       "      <td>NaN</td>\n",
       "      <td>-18.06</td>\n",
       "      <td>13.84</td>\n",
       "      <td>Opuwo Country Lodge</td>\n",
       "    </tr>\n",
       "    <tr>\n",
       "      <td>70</td>\n",
       "      <td>ponta do sol</td>\n",
       "      <td>BR</td>\n",
       "      <td>-20.63</td>\n",
       "      <td>-46.00</td>\n",
       "      <td>Escarpas Resort</td>\n",
       "    </tr>\n",
       "    <tr>\n",
       "      <td>88</td>\n",
       "      <td>cidreira</td>\n",
       "      <td>BR</td>\n",
       "      <td>-30.17</td>\n",
       "      <td>-50.22</td>\n",
       "      <td>Pousada Rosa</td>\n",
       "    </tr>\n",
       "    <tr>\n",
       "      <td>138</td>\n",
       "      <td>morondava</td>\n",
       "      <td>MG</td>\n",
       "      <td>-20.30</td>\n",
       "      <td>44.28</td>\n",
       "      <td>Kimony Resort Hotel</td>\n",
       "    </tr>\n",
       "    <tr>\n",
       "      <td>139</td>\n",
       "      <td>vaini</td>\n",
       "      <td>IN</td>\n",
       "      <td>15.34</td>\n",
       "      <td>74.49</td>\n",
       "      <td>Dandeli Dreams Jungle resorts</td>\n",
       "    </tr>\n",
       "  </tbody>\n",
       "</table>\n",
       "</div>"
      ],
      "text/plain": [
       "             City Country    Lat    Lng                     Hotel Name\n",
       "7           opuwo     NaN -18.06  13.84            Opuwo Country Lodge\n",
       "70   ponta do sol      BR -20.63 -46.00                Escarpas Resort\n",
       "88       cidreira      BR -30.17 -50.22                   Pousada Rosa\n",
       "138     morondava      MG -20.30  44.28            Kimony Resort Hotel\n",
       "139         vaini      IN  15.34  74.49  Dandeli Dreams Jungle resorts"
      ]
     },
     "execution_count": 254,
     "metadata": {},
     "output_type": "execute_result"
    }
   ],
   "source": [
    "hotel_df.head()"
   ]
  },
  {
   "cell_type": "code",
   "execution_count": 255,
   "metadata": {},
   "outputs": [],
   "source": [
    "# NOTE: Do not change any of the code in this cell\n",
    "\n",
    "# Using the template add the hotel marks to the heatmap\n",
    "info_box_template = \"\"\"\n",
    "<dl>\n",
    "<dt>Name</dt><dd>{Hotel Name}</dd>\n",
    "<dt>City</dt><dd>{City}</dd>\n",
    "<dt>Country</dt><dd>{Country}</dd>\n",
    "</dl>\n",
    "\"\"\"\n",
    "# Store the DataFrame Row\n",
    "# NOTE: be sure to update with your DataFrame name\n",
    "hotel_info = [info_box_template.format(**row) for index, row in hotel_df.iterrows()]\n",
    "locations = hotel_df[[\"Lat\", \"Lng\"]]"
   ]
  },
  {
   "cell_type": "code",
   "execution_count": 256,
   "metadata": {},
   "outputs": [
    {
     "data": {
      "application/vnd.jupyter.widget-view+json": {
       "model_id": "336455b437904b1d9697bff567ab4df4",
       "version_major": 2,
       "version_minor": 0
      },
      "text/plain": [
       "Figure(layout=FigureLayout(height='420px'))"
      ]
     },
     "metadata": {},
     "output_type": "display_data"
    }
   ],
   "source": [
    "# Add marker layer ontop of heat map\n",
    "\n",
    "markers =gmaps.marker_layer(locations,info_box_content =hotel_info)\n",
    "fig.add_layer(markers)\n",
    "fig\n",
    "\n",
    "# Display Map"
   ]
  },
  {
   "cell_type": "code",
   "execution_count": null,
   "metadata": {},
   "outputs": [],
   "source": []
  },
  {
   "cell_type": "code",
   "execution_count": null,
   "metadata": {},
   "outputs": [],
   "source": []
  }
 ],
 "metadata": {
  "kernelspec": {
   "display_name": "Python 3",
   "language": "python",
   "name": "python3"
  },
  "language_info": {
   "codemirror_mode": {
    "name": "ipython",
    "version": 3
   },
   "file_extension": ".py",
   "mimetype": "text/x-python",
   "name": "python",
   "nbconvert_exporter": "python",
   "pygments_lexer": "ipython3",
   "version": "3.7.4"
  },
  "latex_envs": {
   "LaTeX_envs_menu_present": true,
   "autoclose": false,
   "autocomplete": true,
   "bibliofile": "biblio.bib",
   "cite_by": "apalike",
   "current_citInitial": 1,
   "eqLabelWithNumbers": true,
   "eqNumInitial": 1,
   "hotkeys": {
    "equation": "Ctrl-E",
    "itemize": "Ctrl-I"
   },
   "labels_anchors": false,
   "latex_user_defs": false,
   "report_style_numbering": false,
   "user_envs_cfg": false
  }
 },
 "nbformat": 4,
 "nbformat_minor": 2
}
