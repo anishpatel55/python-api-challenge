{
 "cells": [
  {
   "cell_type": "markdown",
   "metadata": {},
   "source": [
    "# WeatherPy\n",
    "----\n",
    "\n",
    "#### Note\n",
    "* Instructions have been included for each segment. You do not have to follow them exactly, but they are included to help you think through the steps."
   ]
  },
  {
   "cell_type": "code",
   "execution_count": 48,
   "metadata": {},
   "outputs": [
    {
     "name": "stdout",
     "output_type": "stream",
     "text": [
      "Requirement already satisfied: citipy in /opt/anaconda3/lib/python3.7/site-packages (0.0.5)\r\n",
      "Requirement already satisfied: kdtree>=0.12 in /opt/anaconda3/lib/python3.7/site-packages (from citipy) (0.16)\r\n"
     ]
    }
   ],
   "source": [
    "!pip install citipy"
   ]
  },
  {
   "cell_type": "code",
   "execution_count": 49,
   "metadata": {
    "scrolled": true
   },
   "outputs": [],
   "source": [
    "# Dependencies and Setup\n",
    "import matplotlib.pyplot as plt\n",
    "import pandas as pd\n",
    "import numpy as np\n",
    "import requests\n",
    "import time\n",
    "from scipy.stats import linregress\n",
    "\n",
    "# Import API key\n",
    "from api_keys import weather_api_key\n",
    "\n",
    "# Incorporated citipy to determine city based on latitude and longitude\n",
    "from citipy import citipy\n",
    "\n",
    "# Output File (CSV)\n",
    "output_data_file = \"output_data/cities.csv\"\n",
    "\n",
    "# Range of latitudes and longitudes\n",
    "lat_range = (-90, 90)\n",
    "lng_range = (-180, 180)"
   ]
  },
  {
   "cell_type": "markdown",
   "metadata": {},
   "source": [
    "## Generate Cities List"
   ]
  },
  {
   "cell_type": "code",
   "execution_count": 50,
   "metadata": {},
   "outputs": [
    {
     "data": {
      "text/plain": [
       "601"
      ]
     },
     "execution_count": 50,
     "metadata": {},
     "output_type": "execute_result"
    }
   ],
   "source": [
    "# List for holding lat_lngs and cities\n",
    "lat_lngs = []\n",
    "cities = []\n",
    "\n",
    "# Create a set of random lat and lng combinations\n",
    "lats = np.random.uniform(low=-90.000, high=90.000, size=1500)\n",
    "lngs = np.random.uniform(low=-180.000, high=180.000, size=1500)\n",
    "lat_lngs = zip(lats, lngs)\n",
    "\n",
    "# Identify nearest city for each lat, lng combination\n",
    "for lat_lng in lat_lngs:\n",
    "    city = citipy.nearest_city(lat_lng[0], lat_lng[1]).city_name\n",
    "    \n",
    "    # If the city is unique, then add it to a our cities list\n",
    "    if city not in cities:\n",
    "        cities.append(city)\n",
    "\n",
    "# Print the city count to confirm sufficient count\n",
    "len(cities)"
   ]
  },
  {
   "cell_type": "markdown",
   "metadata": {},
   "source": [
    "### Perform API Calls\n",
    "* Perform a weather check on each city using a series of successive API calls.\n",
    "* Include a print log of each city as it'sbeing processed (with the city number and city name).\n"
   ]
  },
  {
   "cell_type": "code",
   "execution_count": 51,
   "metadata": {},
   "outputs": [
    {
     "data": {
      "text/plain": [
       "'http://api.openweathermap.org/data/2.5/weather?appid=9ca84a54fb6651a751db708cf86ceea3&q='"
      ]
     },
     "execution_count": 51,
     "metadata": {},
     "output_type": "execute_result"
    }
   ],
   "source": [
    "city_name = []\n",
    "country = []\n",
    "date = []\n",
    "humidity = []\n",
    "lat = []\n",
    "lng = []\n",
    "max_temp = []\n",
    "wind_speed = []\n",
    "cloudiness=[]\n",
    "temp=[]\n",
    "weather_key = \"ENTER KEY\"\n",
    "\n",
    "url = \"http://api.openweathermap.org/data/2.5/weather?\"\n",
    "query_url = url + \"appid=\" + weather_key + \"&q=\"\n",
    "query_url\n",
    "    "
   ]
  },
  {
   "cell_type": "code",
   "execution_count": 52,
   "metadata": {},
   "outputs": [
    {
     "name": "stdout",
     "output_type": "stream",
     "text": [
      "Processing Record 0 port-cartier\n",
      "Processing Record 1 karratha\n",
      "Processing Record 2 puerto ayora\n",
      "Processing Record 3 ust-kamchatsk\n",
      "Skipping. No Value\n",
      "Processing Record 4 zhezkazgan\n",
      "Processing Record 5 barrow\n",
      "Processing Record 6 nortelandia\n",
      "Processing Record 7 bredasdorp\n",
      "Processing Record 8 hithadhoo\n",
      "Processing Record 9 northallerton\n",
      "Processing Record 10 meulaboh\n",
      "Processing Record 11 yellowknife\n",
      "Processing Record 12 airai\n",
      "Processing Record 13 bathsheba\n",
      "Processing Record 14 tsihombe\n",
      "Skipping. No Value\n",
      "Processing Record 15 poykovskiy\n",
      "Processing Record 16 pisco\n",
      "Processing Record 17 qaanaaq\n",
      "Processing Record 18 alofi\n",
      "Processing Record 19 mataura\n",
      "Processing Record 20 fairbanks\n",
      "Processing Record 21 san jeronimo\n",
      "Processing Record 22 punta arenas\n",
      "Processing Record 23 mys shmidta\n",
      "Skipping. No Value\n",
      "Processing Record 24 mar del plata\n",
      "Processing Record 25 port elizabeth\n",
      "Processing Record 26 taolanaro\n",
      "Skipping. No Value\n",
      "Processing Record 27 ayan\n",
      "Processing Record 28 medea\n",
      "Processing Record 29 palabuhanratu\n",
      "Skipping. No Value\n",
      "Processing Record 30 katubao\n",
      "Processing Record 31 hilo\n",
      "Processing Record 32 rikitea\n",
      "Processing Record 33 mildura\n",
      "Processing Record 34 diamantino\n",
      "Processing Record 35 jamestown\n",
      "Processing Record 36 cape town\n",
      "Processing Record 37 namatanai\n",
      "Processing Record 38 karaton\n",
      "Processing Record 39 lovozero\n",
      "Processing Record 40 olga\n",
      "Processing Record 41 provideniya\n",
      "Processing Record 42 sentyabrskiy\n",
      "Skipping. No Value\n",
      "Processing Record 43 weihe\n",
      "Processing Record 44 takoradi\n",
      "Processing Record 45 orissaare\n",
      "Processing Record 46 havre\n",
      "Processing Record 47 dumai\n",
      "Processing Record 48 port lincoln\n",
      "Processing Record 49 tasiilaq\n",
      "Processing Record 50 pangody\n",
      "Processing Record 51 carthage\n",
      "Processing Record 52 lazarev\n",
      "Processing Record 53 saldanha\n",
      "Processing Record 54 aplahoue\n",
      "Processing Record 55 ushuaia\n",
      "Processing Record 56 albany\n",
      "Processing Record 57 orlik\n",
      "Processing Record 58 hermanus\n",
      "Processing Record 59 csaszartoltes\n",
      "Processing Record 60 irbil\n",
      "Processing Record 61 tumannyy\n",
      "Skipping. No Value\n",
      "Processing Record 62 castro\n",
      "Processing Record 63 cabo san lucas\n",
      "Processing Record 64 hobart\n",
      "Processing Record 65 waterfoot\n",
      "Processing Record 66 viedma\n",
      "Processing Record 67 attawapiskat\n",
      "Skipping. No Value\n",
      "Processing Record 68 azul\n",
      "Processing Record 69 russell\n",
      "Processing Record 70 kalmar\n",
      "Processing Record 71 vaini\n",
      "Processing Record 72 bonavista\n",
      "Processing Record 73 akdepe\n",
      "Processing Record 74 fortuna\n",
      "Processing Record 75 barentsburg\n",
      "Skipping. No Value\n",
      "Processing Record 76 avarua\n",
      "Processing Record 77 vizovice\n",
      "Processing Record 78 prieska\n",
      "Processing Record 79 komsomolskiy\n",
      "Processing Record 80 goksun\n",
      "Processing Record 81 tuatapere\n",
      "Processing Record 82 torbay\n",
      "Processing Record 83 norman wells\n",
      "Processing Record 84 karpathos\n",
      "Processing Record 85 bethel\n",
      "Processing Record 86 ahipara\n",
      "Processing Record 87 atuona\n",
      "Processing Record 88 souillac\n",
      "Processing Record 89 victoria\n",
      "Processing Record 90 bluff\n",
      "Processing Record 91 churapcha\n",
      "Processing Record 92 pechenga\n",
      "Processing Record 93 hobyo\n",
      "Processing Record 94 vallenar\n",
      "Processing Record 95 east london\n",
      "Processing Record 96 chernyshevskiy\n",
      "Processing Record 97 phan thiet\n",
      "Processing Record 98 bilibino\n",
      "Processing Record 99 busselton\n",
      "Processing Record 100 saint george\n",
      "Processing Record 101 la rioja\n",
      "Processing Record 102 clyde river\n",
      "Processing Record 103 san matias\n",
      "Processing Record 104 illoqqortoormiut\n",
      "Skipping. No Value\n",
      "Processing Record 105 butaritari\n",
      "Processing Record 106 kantang\n",
      "Processing Record 107 lolua\n",
      "Skipping. No Value\n",
      "Processing Record 108 sarangani\n",
      "Processing Record 109 beringovskiy\n",
      "Processing Record 110 tanout\n",
      "Processing Record 111 rungata\n",
      "Skipping. No Value\n",
      "Processing Record 112 erenhot\n",
      "Processing Record 113 kahului\n",
      "Processing Record 114 toliary\n",
      "Skipping. No Value\n",
      "Processing Record 115 tuktoyaktuk\n",
      "Processing Record 116 okha\n",
      "Processing Record 117 leningradskiy\n",
      "Processing Record 118 iqaluit\n",
      "Processing Record 119 arraial do cabo\n",
      "Processing Record 120 upernavik\n",
      "Processing Record 121 port alfred\n",
      "Processing Record 122 coquimbo\n",
      "Processing Record 123 havelock\n",
      "Processing Record 124 saint-philippe\n",
      "Processing Record 125 faanui\n",
      "Processing Record 126 cabadiangan\n",
      "Processing Record 127 notse\n",
      "Processing Record 128 coihaique\n",
      "Processing Record 129 paita\n",
      "Processing Record 130 sedelnikovo\n",
      "Skipping. No Value\n",
      "Processing Record 131 el alto\n",
      "Processing Record 132 kurumkan\n",
      "Processing Record 133 samarai\n",
      "Processing Record 134 katsuura\n",
      "Processing Record 135 bayonet point\n",
      "Processing Record 136 sao joao da barra\n",
      "Processing Record 137 tambun\n",
      "Processing Record 138 kruisfontein\n",
      "Processing Record 139 kearney\n",
      "Processing Record 140 aklavik\n",
      "Processing Record 141 sao filipe\n",
      "Processing Record 142 cherskiy\n",
      "Processing Record 143 vanavara\n",
      "Processing Record 144 dikson\n",
      "Processing Record 145 jinchengjiang\n",
      "Skipping. No Value\n",
      "Processing Record 146 lebu\n",
      "Processing Record 147 anloga\n",
      "Processing Record 148 buckeye\n",
      "Processing Record 149 dingle\n",
      "Processing Record 150 hofn\n",
      "Processing Record 151 port said\n",
      "Processing Record 152 qasigiannguit\n",
      "Processing Record 153 yenagoa\n",
      "Processing Record 154 saskylakh\n",
      "Processing Record 155 fort nelson\n",
      "Processing Record 156 dire dawa\n",
      "Processing Record 157 sapa\n",
      "Processing Record 158 saint anthony\n",
      "Processing Record 159 nishihara\n",
      "Processing Record 160 olafsvik\n",
      "Processing Record 161 mahebourg\n",
      "Processing Record 162 carnarvon\n",
      "Processing Record 163 sidney\n",
      "Processing Record 164 ponta do sol\n",
      "Processing Record 165 urubicha\n",
      "Processing Record 166 grand river south east\n",
      "Skipping. No Value\n",
      "Processing Record 167 saint-joseph\n",
      "Processing Record 168 new norfolk\n",
      "Processing Record 169 bilma\n",
      "Processing Record 170 bay roberts\n",
      "Processing Record 171 san patricio\n",
      "Processing Record 172 college\n",
      "Processing Record 173 geraldton\n",
      "Processing Record 174 keti bandar\n",
      "Processing Record 175 katherine\n",
      "Processing Record 176 murdochville\n",
      "Processing Record 177 georgetown\n",
      "Processing Record 178 belushya guba\n",
      "Skipping. No Value\n",
      "Processing Record 179 yulara\n",
      "Processing Record 180 naron\n",
      "Processing Record 181 cabedelo\n",
      "Processing Record 182 kamenskoye\n",
      "Skipping. No Value\n",
      "Processing Record 183 hailar\n",
      "Processing Record 184 havre-saint-pierre\n",
      "Processing Record 185 pevek\n",
      "Processing Record 186 barawe\n",
      "Skipping. No Value\n",
      "Processing Record 187 codrington\n",
      "Processing Record 188 macapa\n",
      "Processing Record 189 kodiak\n",
      "Processing Record 190 koumra\n",
      "Processing Record 191 mayumba\n",
      "Processing Record 192 champerico\n",
      "Processing Record 193 kichera\n",
      "Processing Record 194 chokurdakh\n",
      "Processing Record 195 aitape\n",
      "Processing Record 196 mount gambier\n",
      "Processing Record 197 asosa\n",
      "Processing Record 198 de aar\n",
      "Processing Record 199 nome\n",
      "Processing Record 200 narrabri\n",
      "Processing Record 201 hunza\n",
      "Skipping. No Value\n",
      "Processing Record 202 shingu\n",
      "Processing Record 203 plettenberg bay\n",
      "Processing Record 204 saint-pierre\n",
      "Processing Record 205 mogocha\n",
      "Processing Record 206 baruun-urt\n",
      "Processing Record 207 strezhevoy\n",
      "Processing Record 208 belem\n",
      "Processing Record 209 waddan\n",
      "Processing Record 210 springbok\n",
      "Processing Record 211 ubinskoye\n",
      "Processing Record 212 thinadhoo\n",
      "Processing Record 213 kloulklubed\n",
      "Processing Record 214 sisimiut\n",
      "Processing Record 215 kapaa\n",
      "Processing Record 216 glossa\n",
      "Processing Record 217 puerto carreno\n",
      "Processing Record 218 tura\n",
      "Processing Record 219 sao miguel do araguaia\n",
      "Processing Record 220 greeneville\n",
      "Processing Record 221 nanortalik\n",
      "Processing Record 222 thompson\n",
      "Processing Record 223 cockburn town\n",
      "Processing Record 224 solnechnyy\n",
      "Processing Record 225 roald\n",
      "Processing Record 226 ayagoz\n",
      "Processing Record 227 tarakan\n",
      "Processing Record 228 lorengau\n",
      "Processing Record 229 kyaikkami\n",
      "Processing Record 230 verkhoyansk\n",
      "Processing Record 231 great yarmouth\n",
      "Processing Record 232 portland\n",
      "Processing Record 233 emba\n",
      "Processing Record 234 vao\n",
      "Processing Record 235 formoso do araguaia\n",
      "Skipping. No Value\n",
      "Processing Record 236 shimoda\n",
      "Processing Record 237 gigmoto\n",
      "Processing Record 238 constitucion\n",
      "Processing Record 239 san carlos de bariloche\n",
      "Processing Record 240 nguiu\n",
      "Skipping. No Value\n",
      "Processing Record 241 raymondville\n",
      "Processing Record 242 buchanan\n",
      "Processing Record 243 acapulco\n",
      "Processing Record 244 sao felix do xingu\n",
      "Processing Record 245 lavrentiya\n",
      "Processing Record 246 anadyr\n",
      "Processing Record 247 temaraia\n",
      "Skipping. No Value\n",
      "Processing Record 248 nikolskoye\n"
     ]
    },
    {
     "name": "stdout",
     "output_type": "stream",
     "text": [
      "Processing Record 249 naze\n",
      "Processing Record 250 kununurra\n",
      "Processing Record 251 etchojoa\n",
      "Processing Record 252 milkovo\n",
      "Processing Record 253 mehamn\n",
      "Processing Record 254 gravdal\n",
      "Processing Record 255 narsaq\n",
      "Processing Record 256 klaksvik\n",
      "Processing Record 257 kolokani\n",
      "Processing Record 258 emerald\n",
      "Processing Record 259 ambodifototra\n",
      "Skipping. No Value\n",
      "Processing Record 260 waingapu\n",
      "Processing Record 261 tapaua\n",
      "Skipping. No Value\n",
      "Processing Record 262 najran\n",
      "Processing Record 263 meadow lake\n",
      "Processing Record 264 amderma\n",
      "Skipping. No Value\n",
      "Processing Record 265 hamilton\n",
      "Processing Record 266 kysyl-syr\n",
      "Processing Record 267 moussoro\n",
      "Processing Record 268 yerbogachen\n",
      "Processing Record 269 samusu\n",
      "Skipping. No Value\n",
      "Processing Record 270 aurad\n",
      "Processing Record 271 east bethel\n",
      "Processing Record 272 mackay\n",
      "Processing Record 273 cidreira\n",
      "Processing Record 274 saint-avertin\n",
      "Processing Record 275 khatanga\n",
      "Processing Record 276 mut\n",
      "Processing Record 277 christchurch\n",
      "Processing Record 278 kuryk\n",
      "Processing Record 279 goderich\n",
      "Processing Record 280 agdangan\n",
      "Processing Record 281 contamana\n",
      "Processing Record 282 tiksi\n",
      "Processing Record 283 baykit\n",
      "Processing Record 284 daru\n",
      "Processing Record 285 luderitz\n",
      "Processing Record 286 lishui\n",
      "Processing Record 287 ancud\n",
      "Processing Record 288 tawnat\n",
      "Skipping. No Value\n",
      "Processing Record 289 inta\n",
      "Processing Record 290 aneho\n",
      "Processing Record 291 shubarshi\n",
      "Processing Record 292 burica\n",
      "Skipping. No Value\n",
      "Processing Record 293 mandera\n",
      "Processing Record 294 sahuaripa\n",
      "Processing Record 295 zhangye\n",
      "Processing Record 296 opopeo\n",
      "Processing Record 297 ntungamo\n",
      "Processing Record 298 ambulu\n",
      "Processing Record 299 key west\n",
      "Processing Record 300 abeche\n",
      "Processing Record 301 lagoa\n",
      "Processing Record 302 la seyne-sur-mer\n",
      "Processing Record 303 straseni\n",
      "Processing Record 304 disna\n",
      "Processing Record 305 ilulissat\n",
      "Processing Record 306 tiznit\n",
      "Processing Record 307 tilichiki\n",
      "Processing Record 308 oranjestad\n",
      "Processing Record 309 koumac\n",
      "Processing Record 310 adrar\n",
      "Processing Record 311 clarence town\n",
      "Processing Record 312 hami\n",
      "Processing Record 313 flin flon\n",
      "Processing Record 314 rawson\n",
      "Processing Record 315 kudat\n",
      "Processing Record 316 nanlong\n",
      "Processing Record 317 road town\n",
      "Processing Record 318 lompoc\n",
      "Processing Record 319 teya\n",
      "Processing Record 320 vestmanna\n",
      "Processing Record 321 opuwo\n",
      "Processing Record 322 hualmay\n",
      "Processing Record 323 batemans bay\n",
      "Processing Record 324 sokoto\n",
      "Processing Record 325 nargana\n",
      "Processing Record 326 pawai\n",
      "Processing Record 327 elko\n",
      "Processing Record 328 krasnyy chikoy\n",
      "Processing Record 329 broome\n",
      "Processing Record 330 mullaitivu\n",
      "Skipping. No Value\n",
      "Processing Record 331 faya\n",
      "Processing Record 332 garowe\n",
      "Processing Record 333 oranjemund\n",
      "Processing Record 334 jiblah\n",
      "Processing Record 335 spokoynaya\n",
      "Processing Record 336 surt\n",
      "Processing Record 337 harper\n",
      "Processing Record 338 buon me thuot\n",
      "Skipping. No Value\n",
      "Processing Record 339 krasnokamensk\n",
      "Processing Record 340 comarapa\n",
      "Processing Record 341 lircay\n",
      "Processing Record 342 charters towers\n",
      "Processing Record 343 camapua\n",
      "Processing Record 344 les cayes\n",
      "Processing Record 345 theodoriana\n",
      "Processing Record 346 quelimane\n",
      "Processing Record 347 richards bay\n",
      "Processing Record 348 gat\n",
      "Processing Record 349 vestmannaeyjar\n",
      "Processing Record 350 madinat sittah uktubar\n",
      "Processing Record 351 aswan\n",
      "Processing Record 352 grand gaube\n",
      "Processing Record 353 katobu\n",
      "Processing Record 354 isangel\n",
      "Processing Record 355 tammisaari\n",
      "Processing Record 356 labutta\n",
      "Skipping. No Value\n",
      "Processing Record 357 kawalu\n",
      "Processing Record 358 the valley\n",
      "Processing Record 359 kirakira\n",
      "Processing Record 360 shchelyayur\n",
      "Skipping. No Value\n",
      "Processing Record 361 yirol\n",
      "Skipping. No Value\n",
      "Processing Record 362 gamba\n",
      "Processing Record 363 bambous virieux\n",
      "Processing Record 364 lodja\n",
      "Processing Record 365 melilla\n",
      "Processing Record 366 agirish\n",
      "Processing Record 367 eirunepe\n",
      "Processing Record 368 rorvik\n",
      "Processing Record 369 la ronge\n",
      "Processing Record 370 hovd\n",
      "Processing Record 371 grass valley\n",
      "Processing Record 372 yumen\n",
      "Processing Record 373 vila franca do campo\n",
      "Processing Record 374 saleaula\n",
      "Skipping. No Value\n",
      "Processing Record 375 ust-tsilma\n",
      "Processing Record 376 lalomanu\n",
      "Skipping. No Value\n",
      "Processing Record 377 eyl\n",
      "Processing Record 378 alamogordo\n",
      "Processing Record 379 oschatz\n",
      "Processing Record 380 saint-augustin\n",
      "Processing Record 381 tateyama\n",
      "Processing Record 382 nyurba\n",
      "Processing Record 383 tabou\n",
      "Processing Record 384 inderborskiy\n",
      "Skipping. No Value\n",
      "Processing Record 385 meyungs\n",
      "Skipping. No Value\n",
      "Processing Record 386 ye\n",
      "Skipping. No Value\n",
      "Processing Record 387 longyearbyen\n",
      "Processing Record 388 jizan\n",
      "Processing Record 389 praia\n",
      "Processing Record 390 orimattila\n",
      "Processing Record 391 port hawkesbury\n",
      "Processing Record 392 tabiauea\n",
      "Skipping. No Value\n",
      "Processing Record 393 kurud\n",
      "Processing Record 394 pampa\n",
      "Processing Record 395 padang\n",
      "Processing Record 396 trunovskoye\n",
      "Processing Record 397 coahuayana\n",
      "Processing Record 398 zeerust\n",
      "Processing Record 399 sampit\n",
      "Processing Record 400 chuy\n",
      "Processing Record 401 rania\n",
      "Processing Record 402 san cristobal\n",
      "Processing Record 403 humaita\n",
      "Processing Record 404 maceio\n",
      "Processing Record 405 halalo\n",
      "Skipping. No Value\n",
      "Processing Record 406 barcelona\n",
      "Processing Record 407 verkh-usugli\n",
      "Processing Record 408 port hardy\n",
      "Processing Record 409 parainen\n",
      "Processing Record 410 sosnovo-ozerskoye\n",
      "Processing Record 411 laguna\n",
      "Processing Record 412 romanovo\n",
      "Processing Record 413 pangnirtung\n",
      "Processing Record 414 mackenzie\n",
      "Processing Record 415 mount isa\n",
      "Processing Record 416 asau\n",
      "Processing Record 417 bowen\n",
      "Processing Record 418 avera\n",
      "Processing Record 419 stournaraiika\n",
      "Skipping. No Value\n",
      "Processing Record 420 zatoka\n",
      "Processing Record 421 vaitupu\n",
      "Skipping. No Value\n",
      "Processing Record 422 gulshat\n",
      "Skipping. No Value\n",
      "Processing Record 423 northam\n",
      "Processing Record 424 lantawan\n",
      "Processing Record 425 caravelas\n",
      "Processing Record 426 caceres\n",
      "Processing Record 427 hambantota\n",
      "Processing Record 428 dunedin\n",
      "Processing Record 429 jasper\n",
      "Processing Record 430 araceli\n",
      "Processing Record 431 pozo colorado\n",
      "Processing Record 432 gazli\n",
      "Processing Record 433 barra do garcas\n",
      "Processing Record 434 monrovia\n",
      "Processing Record 435 mattru\n",
      "Processing Record 436 abbeville\n",
      "Processing Record 437 atambua\n",
      "Processing Record 438 kralendijk\n",
      "Processing Record 439 kodinsk\n",
      "Processing Record 440 moses lake\n",
      "Processing Record 441 camana\n",
      "Processing Record 442 cessnock\n",
      "Processing Record 443 sambava\n",
      "Processing Record 444 ribeira grande\n",
      "Processing Record 445 ipira\n",
      "Processing Record 446 awbari\n",
      "Processing Record 447 aberdeen\n",
      "Processing Record 448 cayenne\n",
      "Processing Record 449 chivilcoy\n",
      "Processing Record 450 bossier city\n",
      "Processing Record 451 batagay-alyta\n",
      "Processing Record 452 ruhengeri\n",
      "Processing Record 453 turje\n",
      "Processing Record 454 tabuleiro do norte\n",
      "Processing Record 455 barsovo\n",
      "Processing Record 456 los llanos de aridane\n",
      "Processing Record 457 novoagansk\n",
      "Processing Record 458 emirdag\n",
      "Processing Record 459 ostrovnoy\n",
      "Processing Record 460 mareeba\n",
      "Processing Record 461 evensk\n",
      "Processing Record 462 kotra\n",
      "Processing Record 463 rabo de peixe\n",
      "Processing Record 464 maumere\n",
      "Processing Record 465 marsa matruh\n",
      "Processing Record 466 yeniseysk\n",
      "Processing Record 467 pauini\n",
      "Processing Record 468 ondangwa\n",
      "Processing Record 469 nizhneyansk\n",
      "Skipping. No Value\n",
      "Processing Record 470 karamea\n",
      "Skipping. No Value\n",
      "Processing Record 471 lusambo\n",
      "Processing Record 472 chamba\n",
      "Processing Record 473 kirillov\n",
      "Processing Record 474 quesnel\n",
      "Processing Record 475 sao gabriel da cachoeira\n",
      "Processing Record 476 berlevag\n",
      "Processing Record 477 upington\n",
      "Processing Record 478 cockburn harbour\n",
      "Skipping. No Value\n",
      "Processing Record 479 suez\n",
      "Processing Record 480 huarmey\n",
      "Processing Record 481 mouzakion\n",
      "Skipping. No Value\n",
      "Processing Record 482 tokur\n",
      "Processing Record 483 valleyview\n",
      "Processing Record 484 jibuti\n",
      "Processing Record 485 husavik\n",
      "Processing Record 486 raudeberg\n",
      "Processing Record 487 varhaug\n",
      "Processing Record 488 staraya toropa\n",
      "Processing Record 489 biak\n",
      "Processing Record 490 salinopolis\n",
      "Processing Record 491 ust-kan\n",
      "Processing Record 492 hasaki\n",
      "Processing Record 493 bandar-e lengeh\n",
      "Processing Record 494 kavaratti\n",
      "Processing Record 495 fort william\n",
      "Processing Record 496 mmabatho\n",
      "Processing Record 497 guantanamo\n"
     ]
    },
    {
     "name": "stdout",
     "output_type": "stream",
     "text": [
      "Processing Record 498 tutin\n",
      "Processing Record 499 buala\n",
      "Processing Record 500 jalu\n",
      "Processing Record 501 kananga\n",
      "Processing Record 502 pringsewu\n",
      "Processing Record 503 valdez\n",
      "Processing Record 504 severo-kurilsk\n",
      "Processing Record 505 wrzesnia\n",
      "Processing Record 506 pare\n",
      "Processing Record 507 igarape-acu\n",
      "Skipping. No Value\n",
      "Processing Record 508 shirokiy\n",
      "Processing Record 509 impfondo\n",
      "Processing Record 510 amapa\n",
      "Processing Record 511 mugur-aksy\n",
      "Processing Record 512 nantucket\n",
      "Processing Record 513 cap malheureux\n",
      "Processing Record 514 kavieng\n",
      "Processing Record 515 san policarpo\n",
      "Processing Record 516 esperance\n",
      "Processing Record 517 dzhankoy\n",
      "Processing Record 518 collie\n",
      "Processing Record 519 katangli\n",
      "Processing Record 520 rio grande\n",
      "Processing Record 521 westpunt\n",
      "Skipping. No Value\n",
      "Processing Record 522 wanning\n",
      "Processing Record 523 bandarbeyla\n",
      "Processing Record 524 svetlaya\n",
      "Processing Record 525 praia da vitoria\n",
      "Processing Record 526 bengkulu\n",
      "Processing Record 527 lethem\n",
      "Processing Record 528 campbell river\n",
      "Processing Record 529 tala\n",
      "Processing Record 530 paso de patria\n",
      "Processing Record 531 chumikan\n",
      "Processing Record 532 vagur\n",
      "Processing Record 533 duncan\n",
      "Processing Record 534 severnyy-kospashskiy\n",
      "Processing Record 535 manadhoo\n",
      "Processing Record 536 amazar\n",
      "Processing Record 537 kaitangata\n",
      "Processing Record 538 kendari\n",
      "Processing Record 539 azimur\n",
      "Skipping. No Value\n",
      "Processing Record 540 jeremie\n",
      "Processing Record 541 kiunga\n",
      "Processing Record 542 kidal\n",
      "Processing Record 543 bosaso\n",
      "Processing Record 544 sitka\n",
      "Processing Record 545 trincomalee\n",
      "Processing Record 546 deputatskiy\n",
      "Processing Record 547 petropavlovsk-kamchatskiy\n",
      "Processing Record 548 portree\n",
      "Processing Record 549 doha\n",
      "Processing Record 550 ocampo\n",
      "Processing Record 551 larreynaga\n",
      "Processing Record 552 olinda\n",
      "Processing Record 553 satitoa\n",
      "Skipping. No Value\n",
      "Processing Record 554 margate\n",
      "Processing Record 555 xiamen\n",
      "Processing Record 556 willmar\n",
      "Processing Record 557 luangwa\n",
      "Processing Record 558 unai\n",
      "Processing Record 559 zanjan\n",
      "Processing Record 560 freeport\n",
      "Processing Record 561 bundaberg\n",
      "Processing Record 562 shihezi\n",
      "Processing Record 563 soyo\n",
      "Processing Record 564 seoul\n",
      "Processing Record 565 wajima\n",
      "Processing Record 566 banda aceh\n",
      "Processing Record 567 zhigansk\n",
      "Processing Record 568 zambezi\n",
      "Processing Record 569 beyneu\n",
      "Processing Record 570 sioux lookout\n",
      "Processing Record 571 taoudenni\n",
      "Processing Record 572 tahta\n",
      "Processing Record 573 tecoanapa\n",
      "Processing Record 574 moerai\n",
      "Processing Record 575 davila\n",
      "Processing Record 576 pedernales\n",
      "Processing Record 577 brae\n",
      "Processing Record 578 talnakh\n",
      "Processing Record 579 ust-omchug\n",
      "Processing Record 580 patnos\n",
      "Processing Record 581 dwarka\n",
      "Processing Record 582 taos\n",
      "Processing Record 583 zeya\n",
      "Processing Record 584 miri\n",
      "Processing Record 585 beidao\n",
      "Processing Record 586 alta floresta\n",
      "Processing Record 587 awjilah\n",
      "Processing Record 588 dalvik\n",
      "Processing Record 589 vangaindrano\n",
      "Processing Record 590 lithakia\n",
      "Processing Record 591 waipawa\n",
      "Processing Record 592 da nang\n",
      "Processing Record 593 mitsamiouli\n",
      "Processing Record 594 aflu\n",
      "Skipping. No Value\n",
      "Processing Record 595 port keats\n",
      "Processing Record 596 cayambe\n",
      "Processing Record 597 bayir\n",
      "Processing Record 598 urdzhar\n",
      "Skipping. No Value\n",
      "Processing Record 599 pochutla\n",
      "Processing Record 600 kimbe\n"
     ]
    }
   ],
   "source": [
    "index = 0\n",
    "for city in cities: \n",
    "    print(f\"Processing Record {index} {city}\")\n",
    "    \n",
    "    response = requests.get(query_url + city).json()\n",
    "    \n",
    "    try:\n",
    "        city_name.append(response[\"name\"])\n",
    "        cloudiness.append(response[\"clouds\"][\"all\"])\n",
    "        country.append(response[\"sys\"][\"country\"])\n",
    "        date.append(response[\"dt\"])\n",
    "        humidity.append(response[\"main\"][\"humidity\"])\n",
    "        lat.append(response[\"coord\"][\"lat\"])\n",
    "        lng.append(response[\"coord\"][\"lon\"])\n",
    "        temp.append(response[\"main\"][\"temp\"])\n",
    "        max_temp.append(response[\"main\"][\"temp_max\"])\n",
    "        wind_speed.append(response[\"wind\"][\"speed\"])\n",
    "    except:\n",
    "        print(\"Skipping. No Value\")\n",
    "        pass\n",
    "    index += 1"
   ]
  },
  {
   "cell_type": "markdown",
   "metadata": {},
   "source": [
    "### Convert Raw Data to DataFrame\n",
    "* Export the city data into a .csv.\n",
    "* Display the DataFrame"
   ]
  },
  {
   "cell_type": "code",
   "execution_count": 53,
   "metadata": {},
   "outputs": [],
   "source": [
    "weather_dictionary = {\n",
    "    \"City\":city_name,\n",
    "    \"Cloudiness\": cloudiness,\n",
    "    \"Country\":country,\n",
    "    \"Date\":date,\n",
    "    \"Humidity\":humidity,\n",
    "    \"Lat\":lat,\n",
    "    \"Lng\":lng,\n",
    "    \"Max Temp\":max_temp,\n",
    "    \"Wind Speed\":wind_speed,\n",
    "}"
   ]
  },
  {
   "cell_type": "code",
   "execution_count": 54,
   "metadata": {},
   "outputs": [
    {
     "data": {
      "text/html": [
       "<div>\n",
       "<style scoped>\n",
       "    .dataframe tbody tr th:only-of-type {\n",
       "        vertical-align: middle;\n",
       "    }\n",
       "\n",
       "    .dataframe tbody tr th {\n",
       "        vertical-align: top;\n",
       "    }\n",
       "\n",
       "    .dataframe thead th {\n",
       "        text-align: right;\n",
       "    }\n",
       "</style>\n",
       "<table border=\"1\" class=\"dataframe\">\n",
       "  <thead>\n",
       "    <tr style=\"text-align: right;\">\n",
       "      <th></th>\n",
       "      <th>City</th>\n",
       "      <th>Cloudiness</th>\n",
       "      <th>Country</th>\n",
       "      <th>Date</th>\n",
       "      <th>Humidity</th>\n",
       "      <th>Lat</th>\n",
       "      <th>Lng</th>\n",
       "      <th>Max Temp</th>\n",
       "      <th>Wind Speed</th>\n",
       "    </tr>\n",
       "  </thead>\n",
       "  <tbody>\n",
       "    <tr>\n",
       "      <td>0</td>\n",
       "      <td>Port-Cartier</td>\n",
       "      <td>75</td>\n",
       "      <td>CA</td>\n",
       "      <td>1581014759</td>\n",
       "      <td>56</td>\n",
       "      <td>50.03</td>\n",
       "      <td>-66.87</td>\n",
       "      <td>265.37</td>\n",
       "      <td>2.60</td>\n",
       "    </tr>\n",
       "    <tr>\n",
       "      <td>1</td>\n",
       "      <td>Karratha</td>\n",
       "      <td>100</td>\n",
       "      <td>AU</td>\n",
       "      <td>1581014759</td>\n",
       "      <td>75</td>\n",
       "      <td>-20.74</td>\n",
       "      <td>116.85</td>\n",
       "      <td>302.78</td>\n",
       "      <td>8.91</td>\n",
       "    </tr>\n",
       "    <tr>\n",
       "      <td>2</td>\n",
       "      <td>Puerto Ayora</td>\n",
       "      <td>90</td>\n",
       "      <td>EC</td>\n",
       "      <td>1581014475</td>\n",
       "      <td>66</td>\n",
       "      <td>-0.74</td>\n",
       "      <td>-90.35</td>\n",
       "      <td>302.15</td>\n",
       "      <td>5.70</td>\n",
       "    </tr>\n",
       "    <tr>\n",
       "      <td>3</td>\n",
       "      <td>Zhezkazgan</td>\n",
       "      <td>90</td>\n",
       "      <td>KZ</td>\n",
       "      <td>1581014760</td>\n",
       "      <td>92</td>\n",
       "      <td>47.80</td>\n",
       "      <td>67.71</td>\n",
       "      <td>268.15</td>\n",
       "      <td>4.00</td>\n",
       "    </tr>\n",
       "    <tr>\n",
       "      <td>4</td>\n",
       "      <td>Barrow</td>\n",
       "      <td>1</td>\n",
       "      <td>US</td>\n",
       "      <td>1581014760</td>\n",
       "      <td>97</td>\n",
       "      <td>71.29</td>\n",
       "      <td>-156.79</td>\n",
       "      <td>238.15</td>\n",
       "      <td>3.10</td>\n",
       "    </tr>\n",
       "    <tr>\n",
       "      <td>...</td>\n",
       "      <td>...</td>\n",
       "      <td>...</td>\n",
       "      <td>...</td>\n",
       "      <td>...</td>\n",
       "      <td>...</td>\n",
       "      <td>...</td>\n",
       "      <td>...</td>\n",
       "      <td>...</td>\n",
       "      <td>...</td>\n",
       "    </tr>\n",
       "    <tr>\n",
       "      <td>542</td>\n",
       "      <td>Port Keats</td>\n",
       "      <td>93</td>\n",
       "      <td>AU</td>\n",
       "      <td>1581014868</td>\n",
       "      <td>78</td>\n",
       "      <td>-14.25</td>\n",
       "      <td>129.55</td>\n",
       "      <td>301.26</td>\n",
       "      <td>4.87</td>\n",
       "    </tr>\n",
       "    <tr>\n",
       "      <td>543</td>\n",
       "      <td>Cayambe</td>\n",
       "      <td>20</td>\n",
       "      <td>EC</td>\n",
       "      <td>1581014868</td>\n",
       "      <td>20</td>\n",
       "      <td>0.05</td>\n",
       "      <td>-78.13</td>\n",
       "      <td>298.15</td>\n",
       "      <td>2.60</td>\n",
       "    </tr>\n",
       "    <tr>\n",
       "      <td>544</td>\n",
       "      <td>Bayir</td>\n",
       "      <td>75</td>\n",
       "      <td>TR</td>\n",
       "      <td>1581014869</td>\n",
       "      <td>93</td>\n",
       "      <td>37.27</td>\n",
       "      <td>28.22</td>\n",
       "      <td>281.15</td>\n",
       "      <td>2.60</td>\n",
       "    </tr>\n",
       "    <tr>\n",
       "      <td>545</td>\n",
       "      <td>Pochutla</td>\n",
       "      <td>40</td>\n",
       "      <td>MX</td>\n",
       "      <td>1581014869</td>\n",
       "      <td>62</td>\n",
       "      <td>15.74</td>\n",
       "      <td>-96.47</td>\n",
       "      <td>303.15</td>\n",
       "      <td>7.70</td>\n",
       "    </tr>\n",
       "    <tr>\n",
       "      <td>546</td>\n",
       "      <td>Kimbe</td>\n",
       "      <td>82</td>\n",
       "      <td>PG</td>\n",
       "      <td>1581014869</td>\n",
       "      <td>95</td>\n",
       "      <td>-5.55</td>\n",
       "      <td>150.14</td>\n",
       "      <td>296.74</td>\n",
       "      <td>1.25</td>\n",
       "    </tr>\n",
       "  </tbody>\n",
       "</table>\n",
       "<p>547 rows × 9 columns</p>\n",
       "</div>"
      ],
      "text/plain": [
       "             City  Cloudiness Country        Date  Humidity    Lat     Lng  \\\n",
       "0    Port-Cartier          75      CA  1581014759        56  50.03  -66.87   \n",
       "1        Karratha         100      AU  1581014759        75 -20.74  116.85   \n",
       "2    Puerto Ayora          90      EC  1581014475        66  -0.74  -90.35   \n",
       "3      Zhezkazgan          90      KZ  1581014760        92  47.80   67.71   \n",
       "4          Barrow           1      US  1581014760        97  71.29 -156.79   \n",
       "..            ...         ...     ...         ...       ...    ...     ...   \n",
       "542    Port Keats          93      AU  1581014868        78 -14.25  129.55   \n",
       "543       Cayambe          20      EC  1581014868        20   0.05  -78.13   \n",
       "544         Bayir          75      TR  1581014869        93  37.27   28.22   \n",
       "545      Pochutla          40      MX  1581014869        62  15.74  -96.47   \n",
       "546         Kimbe          82      PG  1581014869        95  -5.55  150.14   \n",
       "\n",
       "     Max Temp  Wind Speed  \n",
       "0      265.37        2.60  \n",
       "1      302.78        8.91  \n",
       "2      302.15        5.70  \n",
       "3      268.15        4.00  \n",
       "4      238.15        3.10  \n",
       "..        ...         ...  \n",
       "542    301.26        4.87  \n",
       "543    298.15        2.60  \n",
       "544    281.15        2.60  \n",
       "545    303.15        7.70  \n",
       "546    296.74        1.25  \n",
       "\n",
       "[547 rows x 9 columns]"
      ]
     },
     "execution_count": 54,
     "metadata": {},
     "output_type": "execute_result"
    }
   ],
   "source": [
    "weatherdf = pd.DataFrame(weather_dictionary)\n",
    "weatherdf"
   ]
  },
  {
   "cell_type": "code",
   "execution_count": 55,
   "metadata": {},
   "outputs": [],
   "source": [
    "weatherdf.to_csv(\"weatherdata.csv\")"
   ]
  },
  {
   "cell_type": "code",
   "execution_count": 56,
   "metadata": {},
   "outputs": [
    {
     "data": {
      "text/plain": [
       "0      17.996\n",
       "1      85.334\n",
       "2      84.200\n",
       "3      23.000\n",
       "4     -31.000\n",
       "        ...  \n",
       "542    82.598\n",
       "543    77.000\n",
       "544    46.400\n",
       "545    86.000\n",
       "546    74.462\n",
       "Name: Max Temp, Length: 547, dtype: float64"
      ]
     },
     "execution_count": 56,
     "metadata": {},
     "output_type": "execute_result"
    }
   ],
   "source": [
    "fahrenheitchange = (weatherdf[\"Max Temp\"] * (9/5) - 459.67)\n",
    "fahrenheitchange"
   ]
  },
  {
   "cell_type": "markdown",
   "metadata": {},
   "source": [
    "### Plotting the Data\n",
    "* Use proper labeling of the plots using plot titles (including date of analysis) and axes labels.\n",
    "* Save the plotted figures as .pngs."
   ]
  },
  {
   "cell_type": "markdown",
   "metadata": {},
   "source": [
    "#### Latitude vs. Temperature Plot"
   ]
  },
  {
   "cell_type": "code",
   "execution_count": 57,
   "metadata": {},
   "outputs": [
    {
     "data": {
      "image/png": "[encoded data removed]",
      "text/plain": [
       "<Figure size 432x288 with 1 Axes>"
      ]
     },
     "metadata": {
      "needs_background": "light"
     },
     "output_type": "display_data"
    }
   ],
   "source": [
    "plt.scatter(weatherdf[\"Lat\"], fahrenheitchange,edgecolors=\"black\")\n",
    "plt.title(\"City Latitude vs. Max Temperature (02/02/2020)\")\n",
    "plt.xlabel(\"Latitude\")\n",
    "plt.ylabel(\"Max Temperature (F)\")\n",
    "plt.grid(True)\n",
    "plt.savefig(\"LatvsTemp.png\")"
   ]
  },
  {
   "cell_type": "markdown",
   "metadata": {},
   "source": [
    "#### Latitude vs. Humidity Plot"
   ]
  },
  {
   "cell_type": "code",
   "execution_count": 58,
   "metadata": {},
   "outputs": [
    {
     "data": {
      "image/png": "[encoded data removed]",
      "text/plain": [
       "<Figure size 432x288 with 1 Axes>"
      ]
     },
     "metadata": {
      "needs_background": "light"
     },
     "output_type": "display_data"
    }
   ],
   "source": [
    "plt.scatter(weatherdf[\"Lat\"], weatherdf[\"Humidity\"],edgecolors=\"black\")\n",
    "plt.title(\"City Latitude vs. Humidity (02/02/2020)\")\n",
    "plt.xlabel(\"Latitude\")\n",
    "plt.ylabel(\"Humidity (%)\")\n",
    "plt.grid(True)\n",
    "plt.savefig(\"Totallatvsmaxtemp.png\")\n",
    "\n"
   ]
  },
  {
   "cell_type": "markdown",
   "metadata": {},
   "source": [
    "#### Latitude vs. Cloudiness Plot"
   ]
  },
  {
   "cell_type": "code",
   "execution_count": 59,
   "metadata": {},
   "outputs": [
    {
     "data": {
      "image/png": "[encoded data removed]",
      "text/plain": [
       "<Figure size 432x288 with 1 Axes>"
      ]
     },
     "metadata": {
      "needs_background": "light"
     },
     "output_type": "display_data"
    }
   ],
   "source": [
    "plt.scatter(weatherdf[\"Lat\"], weatherdf[\"Cloudiness\"],edgecolors=\"black\")\n",
    "plt.title(\"City Latitude vs. Cloudiness (02/02/2020)\")\n",
    "plt.xlabel(\"Latitude\")\n",
    "plt.ylabel(\"Cloudiness (%)\")\n",
    "plt.grid(True)\n",
    "plt.savefig(\"Latvstotalcloud.png\")"
   ]
  },
  {
   "cell_type": "markdown",
   "metadata": {},
   "source": [
    "#### Latitude vs. Wind Speed Plot"
   ]
  },
  {
   "cell_type": "code",
   "execution_count": 60,
   "metadata": {},
   "outputs": [
    {
     "data": {
      "image/png": "[encoded data removed]",
      "text/plain": [
       "<Figure size 432x288 with 1 Axes>"
      ]
     },
     "metadata": {
      "needs_background": "light"
     },
     "output_type": "display_data"
    }
   ],
   "source": [
    "plt.scatter(weatherdf[\"Lat\"], weatherdf[\"Wind Speed\"],edgecolors=\"black\")\n",
    "plt.title(\"City Latitude vs. Wind Speed (02/02/2020)\")\n",
    "plt.xlabel(\"Latitude\")\n",
    "plt.ylabel(\"Wind Speed (mph)\")\n",
    "plt.grid(True)\n",
    "plt.savefig(\"Latvstotalwindspeed.png\")"
   ]
  },
  {
   "cell_type": "markdown",
   "metadata": {},
   "source": [
    "## Linear Regression"
   ]
  },
  {
   "cell_type": "code",
   "execution_count": 61,
   "metadata": {},
   "outputs": [],
   "source": [
    "# OPTIONAL: Create a function to create Linear Regression plots\n"
   ]
  },
  {
   "cell_type": "code",
   "execution_count": 62,
   "metadata": {},
   "outputs": [],
   "source": [
    "# Create Northern and Southern Hemisphere DataFrames\n"
   ]
  },
  {
   "cell_type": "code",
   "execution_count": 63,
   "metadata": {},
   "outputs": [],
   "source": [
    "import scipy.stats as st\n"
   ]
  },
  {
   "cell_type": "code",
   "execution_count": 64,
   "metadata": {},
   "outputs": [
    {
     "data": {
      "text/html": [
       "<div>\n",
       "<style scoped>\n",
       "    .dataframe tbody tr th:only-of-type {\n",
       "        vertical-align: middle;\n",
       "    }\n",
       "\n",
       "    .dataframe tbody tr th {\n",
       "        vertical-align: top;\n",
       "    }\n",
       "\n",
       "    .dataframe thead th {\n",
       "        text-align: right;\n",
       "    }\n",
       "</style>\n",
       "<table border=\"1\" class=\"dataframe\">\n",
       "  <thead>\n",
       "    <tr style=\"text-align: right;\">\n",
       "      <th></th>\n",
       "      <th>City</th>\n",
       "      <th>Cloudiness</th>\n",
       "      <th>Country</th>\n",
       "      <th>Date</th>\n",
       "      <th>Humidity</th>\n",
       "      <th>Lat</th>\n",
       "      <th>Lng</th>\n",
       "      <th>Max Temp</th>\n",
       "      <th>Wind Speed</th>\n",
       "    </tr>\n",
       "  </thead>\n",
       "  <tbody>\n",
       "    <tr>\n",
       "      <td>0</td>\n",
       "      <td>Port-Cartier</td>\n",
       "      <td>75</td>\n",
       "      <td>CA</td>\n",
       "      <td>1581014759</td>\n",
       "      <td>56</td>\n",
       "      <td>50.03</td>\n",
       "      <td>-66.87</td>\n",
       "      <td>265.37</td>\n",
       "      <td>2.60</td>\n",
       "    </tr>\n",
       "    <tr>\n",
       "      <td>3</td>\n",
       "      <td>Zhezkazgan</td>\n",
       "      <td>90</td>\n",
       "      <td>KZ</td>\n",
       "      <td>1581014760</td>\n",
       "      <td>92</td>\n",
       "      <td>47.80</td>\n",
       "      <td>67.71</td>\n",
       "      <td>268.15</td>\n",
       "      <td>4.00</td>\n",
       "    </tr>\n",
       "    <tr>\n",
       "      <td>4</td>\n",
       "      <td>Barrow</td>\n",
       "      <td>1</td>\n",
       "      <td>US</td>\n",
       "      <td>1581014760</td>\n",
       "      <td>97</td>\n",
       "      <td>71.29</td>\n",
       "      <td>-156.79</td>\n",
       "      <td>238.15</td>\n",
       "      <td>3.10</td>\n",
       "    </tr>\n",
       "    <tr>\n",
       "      <td>8</td>\n",
       "      <td>Northallerton</td>\n",
       "      <td>2</td>\n",
       "      <td>GB</td>\n",
       "      <td>1581014761</td>\n",
       "      <td>89</td>\n",
       "      <td>54.34</td>\n",
       "      <td>-1.43</td>\n",
       "      <td>278.71</td>\n",
       "      <td>2.10</td>\n",
       "    </tr>\n",
       "    <tr>\n",
       "      <td>9</td>\n",
       "      <td>Meulaboh</td>\n",
       "      <td>100</td>\n",
       "      <td>ID</td>\n",
       "      <td>1581014761</td>\n",
       "      <td>78</td>\n",
       "      <td>4.14</td>\n",
       "      <td>96.13</td>\n",
       "      <td>300.83</td>\n",
       "      <td>3.47</td>\n",
       "    </tr>\n",
       "    <tr>\n",
       "      <td>...</td>\n",
       "      <td>...</td>\n",
       "      <td>...</td>\n",
       "      <td>...</td>\n",
       "      <td>...</td>\n",
       "      <td>...</td>\n",
       "      <td>...</td>\n",
       "      <td>...</td>\n",
       "      <td>...</td>\n",
       "      <td>...</td>\n",
       "    </tr>\n",
       "    <tr>\n",
       "      <td>538</td>\n",
       "      <td>Lithakia</td>\n",
       "      <td>20</td>\n",
       "      <td>GR</td>\n",
       "      <td>1581014864</td>\n",
       "      <td>80</td>\n",
       "      <td>37.72</td>\n",
       "      <td>20.83</td>\n",
       "      <td>283.15</td>\n",
       "      <td>2.60</td>\n",
       "    </tr>\n",
       "    <tr>\n",
       "      <td>540</td>\n",
       "      <td>Turan</td>\n",
       "      <td>40</td>\n",
       "      <td>VN</td>\n",
       "      <td>1581014692</td>\n",
       "      <td>94</td>\n",
       "      <td>16.07</td>\n",
       "      <td>108.22</td>\n",
       "      <td>294.15</td>\n",
       "      <td>0.50</td>\n",
       "    </tr>\n",
       "    <tr>\n",
       "      <td>543</td>\n",
       "      <td>Cayambe</td>\n",
       "      <td>20</td>\n",
       "      <td>EC</td>\n",
       "      <td>1581014868</td>\n",
       "      <td>20</td>\n",
       "      <td>0.05</td>\n",
       "      <td>-78.13</td>\n",
       "      <td>298.15</td>\n",
       "      <td>2.60</td>\n",
       "    </tr>\n",
       "    <tr>\n",
       "      <td>544</td>\n",
       "      <td>Bayir</td>\n",
       "      <td>75</td>\n",
       "      <td>TR</td>\n",
       "      <td>1581014869</td>\n",
       "      <td>93</td>\n",
       "      <td>37.27</td>\n",
       "      <td>28.22</td>\n",
       "      <td>281.15</td>\n",
       "      <td>2.60</td>\n",
       "    </tr>\n",
       "    <tr>\n",
       "      <td>545</td>\n",
       "      <td>Pochutla</td>\n",
       "      <td>40</td>\n",
       "      <td>MX</td>\n",
       "      <td>1581014869</td>\n",
       "      <td>62</td>\n",
       "      <td>15.74</td>\n",
       "      <td>-96.47</td>\n",
       "      <td>303.15</td>\n",
       "      <td>7.70</td>\n",
       "    </tr>\n",
       "  </tbody>\n",
       "</table>\n",
       "<p>377 rows × 9 columns</p>\n",
       "</div>"
      ],
      "text/plain": [
       "              City  Cloudiness Country        Date  Humidity    Lat     Lng  \\\n",
       "0     Port-Cartier          75      CA  1581014759        56  50.03  -66.87   \n",
       "3       Zhezkazgan          90      KZ  1581014760        92  47.80   67.71   \n",
       "4           Barrow           1      US  1581014760        97  71.29 -156.79   \n",
       "8    Northallerton           2      GB  1581014761        89  54.34   -1.43   \n",
       "9         Meulaboh         100      ID  1581014761        78   4.14   96.13   \n",
       "..             ...         ...     ...         ...       ...    ...     ...   \n",
       "538       Lithakia          20      GR  1581014864        80  37.72   20.83   \n",
       "540          Turan          40      VN  1581014692        94  16.07  108.22   \n",
       "543        Cayambe          20      EC  1581014868        20   0.05  -78.13   \n",
       "544          Bayir          75      TR  1581014869        93  37.27   28.22   \n",
       "545       Pochutla          40      MX  1581014869        62  15.74  -96.47   \n",
       "\n",
       "     Max Temp  Wind Speed  \n",
       "0      265.37        2.60  \n",
       "3      268.15        4.00  \n",
       "4      238.15        3.10  \n",
       "8      278.71        2.10  \n",
       "9      300.83        3.47  \n",
       "..        ...         ...  \n",
       "538    283.15        2.60  \n",
       "540    294.15        0.50  \n",
       "543    298.15        2.60  \n",
       "544    281.15        2.60  \n",
       "545    303.15        7.70  \n",
       "\n",
       "[377 rows x 9 columns]"
      ]
     },
     "execution_count": 64,
     "metadata": {},
     "output_type": "execute_result"
    }
   ],
   "source": [
    "northhemis = weatherdf.loc[weatherdf[\"Lat\"] >= 0]\n",
    "northhemis\n"
   ]
  },
  {
   "cell_type": "code",
   "execution_count": 65,
   "metadata": {},
   "outputs": [
    {
     "data": {
      "text/html": [
       "<div>\n",
       "<style scoped>\n",
       "    .dataframe tbody tr th:only-of-type {\n",
       "        vertical-align: middle;\n",
       "    }\n",
       "\n",
       "    .dataframe tbody tr th {\n",
       "        vertical-align: top;\n",
       "    }\n",
       "\n",
       "    .dataframe thead th {\n",
       "        text-align: right;\n",
       "    }\n",
       "</style>\n",
       "<table border=\"1\" class=\"dataframe\">\n",
       "  <thead>\n",
       "    <tr style=\"text-align: right;\">\n",
       "      <th></th>\n",
       "      <th>City</th>\n",
       "      <th>Cloudiness</th>\n",
       "      <th>Country</th>\n",
       "      <th>Date</th>\n",
       "      <th>Humidity</th>\n",
       "      <th>Lat</th>\n",
       "      <th>Lng</th>\n",
       "      <th>Max Temp</th>\n",
       "      <th>Wind Speed</th>\n",
       "    </tr>\n",
       "  </thead>\n",
       "  <tbody>\n",
       "    <tr>\n",
       "      <td>1</td>\n",
       "      <td>Karratha</td>\n",
       "      <td>100</td>\n",
       "      <td>AU</td>\n",
       "      <td>1581014759</td>\n",
       "      <td>75</td>\n",
       "      <td>-20.74</td>\n",
       "      <td>116.85</td>\n",
       "      <td>302.78</td>\n",
       "      <td>8.91</td>\n",
       "    </tr>\n",
       "    <tr>\n",
       "      <td>2</td>\n",
       "      <td>Puerto Ayora</td>\n",
       "      <td>90</td>\n",
       "      <td>EC</td>\n",
       "      <td>1581014475</td>\n",
       "      <td>66</td>\n",
       "      <td>-0.74</td>\n",
       "      <td>-90.35</td>\n",
       "      <td>302.15</td>\n",
       "      <td>5.70</td>\n",
       "    </tr>\n",
       "    <tr>\n",
       "      <td>5</td>\n",
       "      <td>Nortelandia</td>\n",
       "      <td>100</td>\n",
       "      <td>BR</td>\n",
       "      <td>1581014760</td>\n",
       "      <td>87</td>\n",
       "      <td>-14.45</td>\n",
       "      <td>-56.80</td>\n",
       "      <td>299.00</td>\n",
       "      <td>0.86</td>\n",
       "    </tr>\n",
       "    <tr>\n",
       "      <td>6</td>\n",
       "      <td>Bredasdorp</td>\n",
       "      <td>99</td>\n",
       "      <td>ZA</td>\n",
       "      <td>1581014761</td>\n",
       "      <td>68</td>\n",
       "      <td>-34.53</td>\n",
       "      <td>20.04</td>\n",
       "      <td>292.15</td>\n",
       "      <td>7.20</td>\n",
       "    </tr>\n",
       "    <tr>\n",
       "      <td>7</td>\n",
       "      <td>Hithadhoo</td>\n",
       "      <td>3</td>\n",
       "      <td>MV</td>\n",
       "      <td>1581014598</td>\n",
       "      <td>78</td>\n",
       "      <td>-0.60</td>\n",
       "      <td>73.08</td>\n",
       "      <td>301.58</td>\n",
       "      <td>5.35</td>\n",
       "    </tr>\n",
       "    <tr>\n",
       "      <td>...</td>\n",
       "      <td>...</td>\n",
       "      <td>...</td>\n",
       "      <td>...</td>\n",
       "      <td>...</td>\n",
       "      <td>...</td>\n",
       "      <td>...</td>\n",
       "      <td>...</td>\n",
       "      <td>...</td>\n",
       "      <td>...</td>\n",
       "    </tr>\n",
       "    <tr>\n",
       "      <td>537</td>\n",
       "      <td>Vangaindrano</td>\n",
       "      <td>88</td>\n",
       "      <td>MG</td>\n",
       "      <td>1581014867</td>\n",
       "      <td>89</td>\n",
       "      <td>-23.35</td>\n",
       "      <td>47.60</td>\n",
       "      <td>296.42</td>\n",
       "      <td>1.10</td>\n",
       "    </tr>\n",
       "    <tr>\n",
       "      <td>539</td>\n",
       "      <td>Waipawa</td>\n",
       "      <td>85</td>\n",
       "      <td>NZ</td>\n",
       "      <td>1581014759</td>\n",
       "      <td>77</td>\n",
       "      <td>-41.41</td>\n",
       "      <td>175.52</td>\n",
       "      <td>288.15</td>\n",
       "      <td>8.20</td>\n",
       "    </tr>\n",
       "    <tr>\n",
       "      <td>541</td>\n",
       "      <td>Mitsamiouli</td>\n",
       "      <td>20</td>\n",
       "      <td>KM</td>\n",
       "      <td>1581014868</td>\n",
       "      <td>88</td>\n",
       "      <td>-11.38</td>\n",
       "      <td>43.28</td>\n",
       "      <td>299.15</td>\n",
       "      <td>3.10</td>\n",
       "    </tr>\n",
       "    <tr>\n",
       "      <td>542</td>\n",
       "      <td>Port Keats</td>\n",
       "      <td>93</td>\n",
       "      <td>AU</td>\n",
       "      <td>1581014868</td>\n",
       "      <td>78</td>\n",
       "      <td>-14.25</td>\n",
       "      <td>129.55</td>\n",
       "      <td>301.26</td>\n",
       "      <td>4.87</td>\n",
       "    </tr>\n",
       "    <tr>\n",
       "      <td>546</td>\n",
       "      <td>Kimbe</td>\n",
       "      <td>82</td>\n",
       "      <td>PG</td>\n",
       "      <td>1581014869</td>\n",
       "      <td>95</td>\n",
       "      <td>-5.55</td>\n",
       "      <td>150.14</td>\n",
       "      <td>296.74</td>\n",
       "      <td>1.25</td>\n",
       "    </tr>\n",
       "  </tbody>\n",
       "</table>\n",
       "<p>170 rows × 9 columns</p>\n",
       "</div>"
      ],
      "text/plain": [
       "             City  Cloudiness Country        Date  Humidity    Lat     Lng  \\\n",
       "1        Karratha         100      AU  1581014759        75 -20.74  116.85   \n",
       "2    Puerto Ayora          90      EC  1581014475        66  -0.74  -90.35   \n",
       "5     Nortelandia         100      BR  1581014760        87 -14.45  -56.80   \n",
       "6      Bredasdorp          99      ZA  1581014761        68 -34.53   20.04   \n",
       "7       Hithadhoo           3      MV  1581014598        78  -0.60   73.08   \n",
       "..            ...         ...     ...         ...       ...    ...     ...   \n",
       "537  Vangaindrano          88      MG  1581014867        89 -23.35   47.60   \n",
       "539       Waipawa          85      NZ  1581014759        77 -41.41  175.52   \n",
       "541   Mitsamiouli          20      KM  1581014868        88 -11.38   43.28   \n",
       "542    Port Keats          93      AU  1581014868        78 -14.25  129.55   \n",
       "546         Kimbe          82      PG  1581014869        95  -5.55  150.14   \n",
       "\n",
       "     Max Temp  Wind Speed  \n",
       "1      302.78        8.91  \n",
       "2      302.15        5.70  \n",
       "5      299.00        0.86  \n",
       "6      292.15        7.20  \n",
       "7      301.58        5.35  \n",
       "..        ...         ...  \n",
       "537    296.42        1.10  \n",
       "539    288.15        8.20  \n",
       "541    299.15        3.10  \n",
       "542    301.26        4.87  \n",
       "546    296.74        1.25  \n",
       "\n",
       "[170 rows x 9 columns]"
      ]
     },
     "execution_count": 65,
     "metadata": {},
     "output_type": "execute_result"
    }
   ],
   "source": [
    "southhemis = weatherdf.loc[weatherdf[\"Lat\"] < 0]\n",
    "southhemis"
   ]
  },
  {
   "cell_type": "code",
   "execution_count": 66,
   "metadata": {},
   "outputs": [
    {
     "data": {
      "text/plain": [
       "0      17.996\n",
       "3      23.000\n",
       "4     -31.000\n",
       "8      42.008\n",
       "9      81.824\n",
       "        ...  \n",
       "538    50.000\n",
       "540    69.800\n",
       "543    77.000\n",
       "544    46.400\n",
       "545    86.000\n",
       "Name: Max Temp, Length: 377, dtype: float64"
      ]
     },
     "execution_count": 66,
     "metadata": {},
     "output_type": "execute_result"
    }
   ],
   "source": [
    "fahrenheitchangenorth = (northhemis[\"Max Temp\"] * (9/5) - 459.67)\n",
    "fahrenheitchangenorth"
   ]
  },
  {
   "cell_type": "code",
   "execution_count": 67,
   "metadata": {},
   "outputs": [
    {
     "data": {
      "text/plain": [
       "1      85.334\n",
       "2      84.200\n",
       "5      78.530\n",
       "6      66.200\n",
       "7      83.174\n",
       "        ...  \n",
       "537    73.886\n",
       "539    59.000\n",
       "541    78.800\n",
       "542    82.598\n",
       "546    74.462\n",
       "Name: Max Temp, Length: 170, dtype: float64"
      ]
     },
     "execution_count": 67,
     "metadata": {},
     "output_type": "execute_result"
    }
   ],
   "source": [
    "fahrenheitchangesouth = (southhemis[\"Max Temp\"] * (9/5) - 459.67)\n",
    "fahrenheitchangesouth"
   ]
  },
  {
   "cell_type": "markdown",
   "metadata": {},
   "source": [
    "####  Northern Hemisphere - Max Temp vs. Latitude Linear Regression"
   ]
  },
  {
   "cell_type": "code",
   "execution_count": 68,
   "metadata": {},
   "outputs": [
    {
     "name": "stdout",
     "output_type": "stream",
     "text": [
      "The r-squared is: -0.8578516026687921\n"
     ]
    },
    {
     "data": {
      "image/png": "[encoded data removed]",
      "text/plain": [
       "<Figure size 432x288 with 1 Axes>"
      ]
     },
     "metadata": {
      "needs_background": "light"
     },
     "output_type": "display_data"
    }
   ],
   "source": [
    "x_values = northhemis[\"Lat\"]\n",
    "y_values = fahrenheitchangenorth\n",
    "(slope,intercept,rvalue,pvalue,stderr) = linregress(x_values, y_values)\n",
    "regress_values = x_values * slope + intercept\n",
    "line_eq = \"y = \" + str(round(slope, 2)) + \"x + \" + str(round(intercept,2))\n",
    "plt.scatter(x_values,y_values)\n",
    "plt.plot(x_values, regress_values, \"r-\")\n",
    "plt.xlabel(\"Latitude\")\n",
    "plt.ylabel(\"Max Temp\")\n",
    "correlation = st.pearsonr(x_values,y_values)\n",
    "plt.annotate(line_eq,(5,-20),fontsize=15,color=\"red\")\n",
    "print(f\"The r-squared is: {rvalue}\")\n",
    "plt.savefig(\"Latvsnmaxtemp.png\")\n"
   ]
  },
  {
   "cell_type": "markdown",
   "metadata": {},
   "source": [
    "####  Southern Hemisphere - Max Temp vs. Latitude Linear Regression"
   ]
  },
  {
   "cell_type": "code",
   "execution_count": 69,
   "metadata": {},
   "outputs": [
    {
     "name": "stdout",
     "output_type": "stream",
     "text": [
      "The r-squared is: 0.5562972980665292\n"
     ]
    },
    {
     "data": {
      "image/png": "[encoded data removed]",
      "text/plain": [
       "<Figure size 432x288 with 1 Axes>"
      ]
     },
     "metadata": {
      "needs_background": "light"
     },
     "output_type": "display_data"
    }
   ],
   "source": [
    "x_values = southhemis[\"Lat\"]\n",
    "y_values = fahrenheitchangesouth\n",
    "(slope,intercept,rvalue,pvalue,stderr) = linregress(x_values, y_values)\n",
    "regress_values = x_values * slope + intercept\n",
    "line_eq = \"y = \" + str(round(slope, 2)) + \"x + \" + str(round(intercept,2))\n",
    "plt.scatter(x_values,y_values)\n",
    "plt.plot(x_values, regress_values, \"r-\")\n",
    "plt.xlabel(\"Latitude\")\n",
    "plt.ylabel(\"Max Temp\")\n",
    "correlation = st.pearsonr(x_values,y_values)\n",
    "plt.annotate(line_eq,(-30,40),fontsize=15,color=\"red\")\n",
    "print(f\"The r-squared is: {rvalue}\")\n",
    "plt.savefig(\"latvssmaxtemp.png\")"
   ]
  },
  {
   "cell_type": "markdown",
   "metadata": {},
   "source": [
    "####  Northern Hemisphere - Humidity (%) vs. Latitude Linear Regression"
   ]
  },
  {
   "cell_type": "code",
   "execution_count": 70,
   "metadata": {},
   "outputs": [
    {
     "name": "stdout",
     "output_type": "stream",
     "text": [
      "The r-squared is: 0.42738136917051106\n"
     ]
    },
    {
     "data": {
      "image/png": "[encoded data removed]",
      "text/plain": [
       "<Figure size 432x288 with 1 Axes>"
      ]
     },
     "metadata": {
      "needs_background": "light"
     },
     "output_type": "display_data"
    }
   ],
   "source": [
    "x_values = northhemis[\"Lat\"]\n",
    "y_values = northhemis[\"Humidity\"]\n",
    "(slope,intercept,rvalue,pvalue,stderr) = linregress(x_values, y_values)\n",
    "regress_values = x_values * slope + intercept\n",
    "line_eq = \"y = \" + str(round(slope, 2)) + \"x + \" + str(round(intercept,2))\n",
    "plt.scatter(x_values,y_values)\n",
    "plt.plot(x_values, regress_values, \"r-\")\n",
    "plt.xlabel(\"Latitude\")\n",
    "plt.ylabel(\"Humidity\")\n",
    "correlation = st.pearsonr(x_values,y_values)\n",
    "plt.annotate(line_eq,(40,10),fontsize=15,color=\"red\")\n",
    "print(f\"The r-squared is: {rvalue}\")\n",
    "plt.savefig(\"Latvsnhumidity.png\")"
   ]
  },
  {
   "cell_type": "markdown",
   "metadata": {},
   "source": [
    "####  Southern Hemisphere - Humidity (%) vs. Latitude Linear Regression"
   ]
  },
  {
   "cell_type": "code",
   "execution_count": 71,
   "metadata": {},
   "outputs": [
    {
     "name": "stdout",
     "output_type": "stream",
     "text": [
      "The r-squared is: 0.1563226861488363\n"
     ]
    },
    {
     "data": {
      "image/png": "[encoded data removed]",
      "text/plain": [
       "<Figure size 432x288 with 1 Axes>"
      ]
     },
     "metadata": {
      "needs_background": "light"
     },
     "output_type": "display_data"
    }
   ],
   "source": [
    "x_values = southhemis[\"Lat\"]\n",
    "y_values = southhemis[\"Humidity\"]\n",
    "(slope,intercept,rvalue,pvalue,stderr) = linregress(x_values, y_values)\n",
    "regress_values = x_values * slope + intercept\n",
    "line_eq = \"y = \" + str(round(slope, 2)) + \"x + \" + str(round(intercept,2))\n",
    "plt.scatter(x_values,y_values)\n",
    "plt.plot(x_values, regress_values, \"r-\")\n",
    "plt.xlabel(\"Latitude\")\n",
    "plt.ylabel(\"Humidity\")\n",
    "correlation = st.pearsonr(x_values,y_values)\n",
    "plt.annotate(line_eq,(-25,10),fontsize=15,color=\"red\")\n",
    "print(f\"The r-squared is: {rvalue}\")\n",
    "plt.savefig(\"Latvsshumidity.png\")"
   ]
  },
  {
   "cell_type": "markdown",
   "metadata": {},
   "source": [
    "####  Northern Hemisphere - Cloudiness (%) vs. Latitude Linear Regression"
   ]
  },
  {
   "cell_type": "code",
   "execution_count": 72,
   "metadata": {},
   "outputs": [
    {
     "name": "stdout",
     "output_type": "stream",
     "text": [
      "The r-squared is: 0.15500138238987973\n"
     ]
    },
    {
     "data": {
      "image/png": "[encoded data removed]",
      "text/plain": [
       "<Figure size 432x288 with 1 Axes>"
      ]
     },
     "metadata": {
      "needs_background": "light"
     },
     "output_type": "display_data"
    }
   ],
   "source": [
    "x_values = northhemis[\"Lat\"]\n",
    "y_values = northhemis[\"Cloudiness\"]\n",
    "(slope,intercept,rvalue,pvalue,stderr) = linregress(x_values, y_values)\n",
    "regress_values = x_values * slope + intercept\n",
    "line_eq = \"y = \" + str(round(slope, 2)) + \"x + \" + str(round(intercept,2))\n",
    "plt.scatter(x_values,y_values)\n",
    "plt.plot(x_values, regress_values, \"r-\")\n",
    "plt.xlabel(\"Latitude\")\n",
    "plt.ylabel(\"Cloudiness (%)\")\n",
    "correlation = st.pearsonr(x_values,y_values)\n",
    "plt.annotate(line_eq,(40,10),fontsize=15,color=\"red\")\n",
    "print(f\"The r-squared is: {rvalue}\")\n",
    "plt.savefig(\"Latvsncloud.png\")"
   ]
  },
  {
   "cell_type": "markdown",
   "metadata": {},
   "source": [
    "####  Southern Hemisphere - Cloudiness (%) vs. Latitude Linear Regression"
   ]
  },
  {
   "cell_type": "code",
   "execution_count": 73,
   "metadata": {},
   "outputs": [
    {
     "name": "stdout",
     "output_type": "stream",
     "text": [
      "The r-squared is: 0.16767327832062928\n"
     ]
    },
    {
     "data": {
      "image/png": "[encoded data removed]",
      "text/plain": [
       "<Figure size 432x288 with 1 Axes>"
      ]
     },
     "metadata": {
      "needs_background": "light"
     },
     "output_type": "display_data"
    }
   ],
   "source": [
    "x_values = southhemis[\"Lat\"]\n",
    "y_values = southhemis[\"Cloudiness\"]\n",
    "(slope,intercept,rvalue,pvalue,stderr) = linregress(x_values, y_values)\n",
    "regress_values = x_values * slope + intercept\n",
    "line_eq = \"y = \" + str(round(slope, 2)) + \"x + \" + str(round(intercept,2))\n",
    "plt.scatter(x_values,y_values)\n",
    "plt.plot(x_values, regress_values, \"r-\")\n",
    "plt.xlabel(\"Latitude\")\n",
    "plt.ylabel(\"Cloudiness (%)\")\n",
    "correlation = st.pearsonr(x_values,y_values)\n",
    "plt.annotate(line_eq,(-30,10),fontsize=15,color=\"red\")\n",
    "print(f\"The r-squared is: {rvalue}\")\n",
    "plt.savefig(\"Latvsscloud.png\")"
   ]
  },
  {
   "cell_type": "markdown",
   "metadata": {},
   "source": [
    "####  Northern Hemisphere - Wind Speed (mph) vs. Latitude Linear Regression"
   ]
  },
  {
   "cell_type": "code",
   "execution_count": 74,
   "metadata": {},
   "outputs": [
    {
     "name": "stdout",
     "output_type": "stream",
     "text": [
      "The r-squared is: -0.042014506384842096\n"
     ]
    },
    {
     "data": {
      "image/png": "[encoded data removed]",
      "text/plain": [
       "<Figure size 432x288 with 1 Axes>"
      ]
     },
     "metadata": {
      "needs_background": "light"
     },
     "output_type": "display_data"
    }
   ],
   "source": [
    "x_values = northhemis[\"Lat\"]\n",
    "y_values = northhemis[\"Wind Speed\"]\n",
    "(slope,intercept,rvalue,pvalue,stderr) = linregress(x_values, y_values)\n",
    "regress_values = x_values * slope + intercept\n",
    "line_eq = \"y = \" + str(round(slope, 2)) + \"x + \" + str(round(intercept,2))\n",
    "plt.scatter(x_values,y_values)\n",
    "plt.plot(x_values, regress_values, \"r-\")\n",
    "plt.xlabel(\"Latitude\")\n",
    "plt.ylabel(\"Wind Speed\")\n",
    "correlation = st.pearsonr(x_values,y_values)\n",
    "plt.annotate(line_eq,(40,17),fontsize=15,color=\"red\")\n",
    "print(f\"The r-squared is: {rvalue}\")\n",
    "plt.savefig(\"Latvsnwindspeed.png\")"
   ]
  },
  {
   "cell_type": "markdown",
   "metadata": {},
   "source": [
    "####  Southern Hemisphere - Wind Speed (mph) vs. Latitude Linear Regression"
   ]
  },
  {
   "cell_type": "code",
   "execution_count": 75,
   "metadata": {},
   "outputs": [
    {
     "name": "stdout",
     "output_type": "stream",
     "text": [
      "The r-squared is: -0.1931516892529122\n"
     ]
    },
    {
     "data": {
      "image/png": "[encoded data removed]",
      "text/plain": [
       "<Figure size 432x288 with 1 Axes>"
      ]
     },
     "metadata": {
      "needs_background": "light"
     },
     "output_type": "display_data"
    }
   ],
   "source": [
    "x_values = southhemis[\"Lat\"]\n",
    "y_values = southhemis[\"Wind Speed\"]\n",
    "(slope,intercept,rvalue,pvalue,stderr) = linregress(x_values, y_values)\n",
    "regress_values = x_values * slope + intercept\n",
    "line_eq = \"y = \" + str(round(slope, 2)) + \"x + \" + str(round(intercept,2))\n",
    "plt.scatter(x_values,y_values)\n",
    "plt.plot(x_values, regress_values, \"r-\")\n",
    "plt.xlabel(\"Latitude\")\n",
    "plt.ylabel(\"Wind Speed\")\n",
    "correlation = st.pearsonr(x_values,y_values)\n",
    "plt.annotate(line_eq,(-30,10),fontsize=15,color=\"red\")\n",
    "print(f\"The r-squared is: {rvalue}\")\n",
    "plt.savefig(\"Latvsswindspeed.png\")"
   ]
  },
  {
   "cell_type": "code",
   "execution_count": null,
   "metadata": {},
   "outputs": [],
   "source": []
  },
  {
   "cell_type": "code",
   "execution_count": null,
   "metadata": {},
   "outputs": [],
   "source": []
  },
  {
   "cell_type": "code",
   "execution_count": null,
   "metadata": {},
   "outputs": [],
   "source": []
  },
  {
   "cell_type": "code",
   "execution_count": null,
   "metadata": {},
   "outputs": [],
   "source": []
  },
  {
   "cell_type": "code",
   "execution_count": null,
   "metadata": {},
   "outputs": [],
   "source": []
  }
 ],
 "metadata": {
  "anaconda-cloud": {},
  "kernel_info": {
   "name": "python3"
  },
  "kernelspec": {
   "display_name": "Python 3",
   "language": "python",
   "name": "python3"
  },
  "language_info": {
   "codemirror_mode": {
    "name": "ipython",
    "version": 3
   },
   "file_extension": ".py",
   "mimetype": "text/x-python",
   "name": "python",
   "nbconvert_exporter": "python",
   "pygments_lexer": "ipython3",
   "version": "3.7.4"
  },
  "latex_envs": {
   "LaTeX_envs_menu_present": true,
   "autoclose": false,
   "autocomplete": true,
   "bibliofile": "biblio.bib",
   "cite_by": "apalike",
   "current_citInitial": 1,
   "eqLabelWithNumbers": true,
   "eqNumInitial": 1,
   "hotkeys": {
    "equation": "Ctrl-E",
    "itemize": "Ctrl-I"
   },
   "labels_anchors": false,
   "latex_user_defs": false,
   "report_style_numbering": false,
   "user_envs_cfg": false
  },
  "nteract": {
   "version": "0.12.3"
  }
 },
 "nbformat": 4,
 "nbformat_minor": 2
}
